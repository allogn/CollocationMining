{
 "cells": [
  {
   "cell_type": "code",
   "execution_count": 22,
   "metadata": {
    "collapsed": true
   },
   "outputs": [],
   "source": [
    "from collections import defaultdict, Counter\n",
    "from geopy.distance import vincenty\n",
    "from itertools import  product, groupby, combinations\n",
    "import numpy as np\n",
    "import pandas as pd\n",
    "from tqdm import tqdm\n",
    "import os\n",
    "import json\n",
    "from time import time\n",
    "import sys, traceback\n",
    "import math"
   ]
  },
  {
   "cell_type": "markdown",
   "metadata": {},
   "source": [
    "# Data"
   ]
  },
  {
   "cell_type": "code",
   "execution_count": 2,
   "metadata": {
    "collapsed": true
   },
   "outputs": [],
   "source": [
    "groups = {'hindu_temple':'religious_centers',\n",
    "    'mosque':'religious_centers',\n",
    "    'place_of_worship' : 'religious_centers',\n",
    "    'synagogue' : 'religious_centers',\n",
    "    'church' : 'religious_centers',\n",
    "    'meal_delivery' : 'restaurant',\n",
    "    'food' : 'restaurant',\n",
    "    'meal_takeaway' : 'restaurant',\n",
    "    'bank' : 'finance',\n",
    "    'roofing_contractor' : 'construction_contractor',\n",
    "    'electrician' : 'construction_contractor',\n",
    "    'plumber' : 'construction_contractor',\n",
    "    'painter' : 'construction_contractor',\n",
    "    'general_contractor' : 'construction_contractor',\n",
    "    'health' : 'doctor',\n",
    "    'lodging' : 'hotel_and_lodging'\n",
    "}"
   ]
  },
  {
   "cell_type": "code",
   "execution_count": 3,
   "metadata": {
    "collapsed": true
   },
   "outputs": [],
   "source": [
    "with open('chicago/amenities_list.json') as outfile:\n",
    "    amenitiesOldInfo = json.load(outfile)\n",
    "    \n",
    "amenitiesList = [amenity['Label'] for amenity in amenitiesOldInfo]\n",
    "amenitiesIndices = {v: k for k, v in zip(range(len(amenitiesList)), amenitiesList)}\n",
    "amenities = amenitiesList"
   ]
  },
  {
   "cell_type": "code",
   "execution_count": 6,
   "metadata": {
    "collapsed": true
   },
   "outputs": [],
   "source": [
    "import os\n",
    "cities = {}\n",
    "for file in os.listdir('Boston/revised/data/processing_data/result/'):\n",
    "    try:\n",
    "        data = pd.read_csv('Boston/revised/data/processing_data/result/' + file)\n",
    "        data.columns = ['latitude','longitude','intensity','type','clusterId']\n",
    "\n",
    "        for old, new in groups.items():\n",
    "            data.loc[data.type == old,'type'] = new\n",
    "        filteredData = data[data.type.isin(amenitiesList)]\n",
    "        filteredData['id'] = filteredData.index\n",
    "        filteredData.drop('intensity', axis = 1, inplace = True)\n",
    "        cities[file.split('.')[0]] = filteredData\n",
    "    except Exception as e:\n",
    "        print(e)"
   ]
  },
  {
   "cell_type": "markdown",
   "metadata": {},
   "source": [
    "# Mining"
   ]
  },
  {
   "cell_type": "code",
   "execution_count": 8,
   "metadata": {
    "collapsed": true
   },
   "outputs": [],
   "source": [
    "def initializeContainers(minLat, minLng, maxLat, maxLng):\n",
    "    cityCoords = []\n",
    "    length = vincenty((minLat, minLng), (maxLat, minLng)).kilometers\n",
    "    width = vincenty((minLat, minLng), (minLat, maxLng)).kilometers\n",
    "    cellSize = 2.0\n",
    "    \n",
    "    lngEps = (maxLat - minLat)/length*0.05\n",
    "    latEps = (maxLng - minLng)/width*0.05\n",
    "\n",
    "    latCells = int(math.ceil(length/cellSize) + 1)\n",
    "    lngCells = int(math.ceil(width/cellSize) + 1)\n",
    "\n",
    "    latStep = (maxLat - minLat)/latCells\n",
    "    lngStep = (maxLng - minLng)/lngCells\n",
    "\n",
    "    for lat in range(latCells):\n",
    "        for lng in range(lngCells):\n",
    "            cityCoords.append(((minLat + lat*latStep), (minLng + lng*lngStep)))\n",
    "    cityCoords = np.array(cityCoords).reshape([latCells,lngCells, 2])\n",
    "    hashTable = np.zeros([latCells, lngCells, len(amenitiesList)], dtype=object)\n",
    "    return cityCoords, hashTable, lngEps, latEps"
   ]
  },
  {
   "cell_type": "code",
   "execution_count": 12,
   "metadata": {
    "collapsed": true
   },
   "outputs": [],
   "source": [
    "def hashData(hashTable, data, minLat, minLng, latCells, lngCells, latStep, lngStep, latEps, lngEps):\n",
    "    start = time()\n",
    "    for index, location in data.iterrows():\n",
    "        lat, lng = location.latitude, location.longitude\n",
    "        currentLatId, currentLngId = int((lat-minLat)/latStep), int((lng-minLng)/lngStep)\n",
    "\n",
    "        upperLatId, bottomLatId = int((lat+latEps-minLat)/latStep), int((lat-latEps-minLat)/latStep)\n",
    "        upperLngId, bottomLngId = int((lng+lngEps-minLng)/lngStep), int((lng-lngEps-minLng)/lngStep)\n",
    "        otherLatId = upperLatId if upperLatId!=currentLatId else bottomLatId if bottomLatId!=currentLatId else currentLatId\n",
    "        otherLatId = min(otherLatId, latCells-1)\n",
    "        otherLngId = upperLngId if upperLngId!=currentLngId else bottomLngId if bottomLngId!=currentLngId else currentLngId\n",
    "        otherLngId = min(otherLngId, lngCells-1)\n",
    "\n",
    "        for latId in set([currentLatId, otherLatId]):\n",
    "            for lngId in set([currentLngId, otherLngId]):\n",
    "                try:\n",
    "                    if hashTable[latId, lngId, amenitiesIndices[location.type]]:\n",
    "                        hashTable[latId, lngId, amenitiesIndices[location.type]].append((lat, lng, location.id))\n",
    "                        hashTable[latId, lngId, amenitiesIndices[location.type]].sort(key = lambda x : x[0])\n",
    "                    else:\n",
    "                        hashTable[latId, lngId, amenitiesIndices[location.type]] = [(lat, lng, location.id)]\n",
    "                except Exception as e:\n",
    "#                     print e\n",
    "                    pass\n",
    "\n",
    "    print('Super fast hasing took', time()-start, 'to execute')\n",
    "    return hashTable, time()-start"
   ]
  },
  {
   "cell_type": "code",
   "execution_count": 7,
   "metadata": {
    "collapsed": true
   },
   "outputs": [],
   "source": [
    "def minePatterns(hashTable, cellsCoords, latCells, lngCells, latStep, lngStep, lngEps):\n",
    "    neighborsByAmenity = {}\n",
    "    start = time()\n",
    "    for lat in range(latCells):\n",
    "        for lng in range(lngCells):\n",
    "            currentCell = hashTable[lat, lng]\n",
    "            for amenityType in amenitiesList:\n",
    "                amenityNeighbors = []\n",
    "                if amenityType not in neighborsByAmenity:\n",
    "                    neighborsByAmenity[amenityType] = []\n",
    "                #No locations of this type\n",
    "                if not currentCell[amenitiesIndices[amenityType]]:\n",
    "                    continue\n",
    "\n",
    "                cellCoords = cellsCoords[lat, lng]\n",
    "                #Iterate all the objects in this cell and type\n",
    "\n",
    "                for location in filter(lambda x: \n",
    "                                           x[0] >= cellCoords[0] \n",
    "                                       and x[0] < cellCoords[0] + latStep\n",
    "                                       and x[1] >= cellCoords[1]\n",
    "                                       and x[1] < cellCoords[1] + lngStep,\n",
    "                                       currentCell[amenitiesIndices[amenityType]]):\n",
    "                    locationNeighbors = []\n",
    "                    for neighborAmenityType in filter(lambda x: currentCell[amenitiesIndices[x]]\n",
    "                                                      and x != amenityType,\n",
    "                                                      amenitiesList[amenitiesIndices[amenityType]+1:]):\n",
    "                        for neighborLocation in currentCell[amenitiesIndices[neighborAmenityType]]:\n",
    "                            if neighborLocation[0] -  location[0] < -lngEps:\n",
    "                                continue\n",
    "                            if location[0] - neighborLocation[0] > lngEps:\n",
    "                                break\n",
    "                            if vincenty(location[:2], neighborLocation[:2]).meters <= 50:\n",
    "                                locationNeighbors.append((neighborLocation[2],\n",
    "                                                         neighborAmenityType))\n",
    "                    if len(locationNeighbors):\n",
    "                        amenityNeighbors.append(((location[2],\n",
    "                                                 amenityType), locationNeighbors))\n",
    "                neighborsByAmenity[amenityType].extend(amenityNeighbors)\n",
    "    return time()-start, neighborsByAmenity"
   ]
  },
  {
   "cell_type": "code",
   "execution_count": 17,
   "metadata": {
    "collapsed": true
   },
   "outputs": [],
   "source": [
    "def mineCityStarPatterns(cityName):\n",
    "    data = cities[cityName]\n",
    "    data = data.drop_duplicates(['latitude','longitude','type'])\n",
    "    print(cityName)\n",
    "    print(len(data))\n",
    "    \n",
    "    start = time()\n",
    "    \n",
    "    minLat, minLng, maxLat, maxLng =  data.latitude.min(), data.longitude.min(), data.latitude.max(), data.longitude.max()\n",
    "    lowerLeft = minLat, minLng\n",
    "    upperRight = maxLat, maxLng\n",
    "\n",
    "    cellsCoords, hashTable, lngEps, latEps = initializeContainers(minLat, minLng, maxLat, maxLng)\n",
    "\n",
    "    latCells, lngCells, _ = cellsCoords.shape\n",
    "    latStep = (maxLat - minLat)/latCells\n",
    "    lngStep = (maxLng - minLng)/lngCells\n",
    "\n",
    "    hashTable, hasingTime = hashData(hashTable, data, minLat, minLng, latCells, lngCells, latStep, lngStep, latEps, lngEps)\n",
    "    materTime, neighborsByAmenity = minePatterns(hashTable, cellsCoords, latCells, lngCells, latStep, lngStep, lngEps)\n",
    "    \n",
    "    neighborsByAmenity = {amenity:[(set([location[1] for location in instance[1]]), instance)\n",
    "                                    for instance in neighborsByAmenity[amenity]]\n",
    "                                    for amenity in amenities}\n",
    "    \n",
    "    print('Mining algorithm took', time() - start, 'to execute')\n",
    "    return cityName, len(data), neighborsByAmenity, time() - start"
   ]
  },
  {
   "cell_type": "code",
   "execution_count": 18,
   "metadata": {
    "collapsed": false
   },
   "outputs": [
    {
     "name": "stdout",
     "output_type": "stream",
     "text": [
      "Providence\n",
      "8104\n",
      "Super fast hasing took 1.3787920475006104 to execute\n",
      "Mining algorithm took 35.83417296409607 to execute\n"
     ]
    }
   ],
   "source": [
    "city, dataLen, neighborsByAmenity, materTime = mineCityStarPatterns('Providence')\n",
    "\n",
    "amenitiesCounts = defaultdict(lambda: 0)\n",
    "for amenity in amenities:\n",
    "    amenitiesCounts[amenity] = len(data[data.type == amenity])"
   ]
  },
  {
   "cell_type": "code",
   "execution_count": 21,
   "metadata": {
    "collapsed": true
   },
   "outputs": [],
   "source": [
    "th = 0.05\n",
    "\n",
    "def generateCandidates(colocations, amenities, patternsPrevs, k0):\n",
    "    candidates = []\n",
    "    for colocation in tqdm(colocations):\n",
    "        for amenity in amenities[amenitiesIndex[colocation.split('.')[-1]] + 1:]:\n",
    "            notPrevalent = False\n",
    "            for subPattern in combinations(colocation.split('.') + [amenity], k0):\n",
    "                subP = '.'.join(subPattern)\n",
    "                if not subP in colocations:\n",
    "                    notPrevalent = True\n",
    "                    break\n",
    "                if k0 > 1:\n",
    "                    if patternsPrevs[k0][subP] < th:\n",
    "                        notPrevalent = True\n",
    "                        break\n",
    "            if notPrevalent:\n",
    "                continue\n",
    "            candidates.append(colocation + '.' +amenity)\n",
    "    return candidates\n",
    "\n",
    "def genSecondPatterns(colocationSplit, instances):\n",
    "    cliqueInstanes = []\n",
    "    neighborType = colocationSplit[1]\n",
    "    for starInstance in instances:\n",
    "        center = starInstance[0]\n",
    "        for location in starInstance[1]:\n",
    "            if location[1] == neighborType:\n",
    "                cliqueInstanes.append((center[0], location[0]))\n",
    "    return cliqueInstanes\n",
    "\n",
    "def genMorePatterns(colocationSplit, instances, patternsInstances):\n",
    "    cliqueInstances = []\n",
    "    for instance in instances:\n",
    "        center = tuple([instance[0][0]])\n",
    "        neighbors = instance[1]\n",
    "        potentialStarNeighbors = [location for location in neighbors\n",
    "                                  if location[1] in colocationSplit[1:]]\n",
    "        grouping = [[location[0] for location in group]\n",
    "                    for key, group in groupby(potentialStarNeighbors, lambda x: x[1])]\n",
    "        referenceStars = patternsInstances[k-1]['.'.join(colocationSplit[1:])]\n",
    "        cliqueInstances.extend([(center) + star for star in product(*grouping) if star in referenceStars])\n",
    "    return cliqueInstances\n",
    "\n",
    "def checkStar(instanceTypes, colocation):\n",
    "    for amenity in colocation[1:]:\n",
    "        if not amenity in instanceTypes:\n",
    "            return False\n",
    "    return True\n",
    "\n",
    "def calculcatePatternPrevalence(colocationSplit, instances, amenitiesCounts):\n",
    "    patternInstanceCounts = {}\n",
    "    for instance in instances:\n",
    "        for instanceID, instanceType in zip(instance, colocationSplit):\n",
    "            patternInstanceCounts[(instanceID, instanceType)] = 1\n",
    "    counts = Counter([amenity for (id, amenity), one in patternInstanceCounts.items()])\n",
    "    ratios = [float(count)/amenitiesCounts[type] for type, count in counts.items()]\n",
    "    return min(ratios)"
   ]
  },
  {
   "cell_type": "code",
   "execution_count": null,
   "metadata": {
    "collapsed": false
   },
   "outputs": [],
   "source": [
    "city, dataLen, neighborsByAmenity, materTime = mineCityStarPatterns('Providence')\n",
    "amenitiesCounts = defaultdict(lambda: 0)\n",
    "for amenity in amenities:\n",
    "    amenitiesCounts[amenity] = len(data[data.type == amenity])\n",
    "\n",
    "start = time()\n",
    "patterns = {1: [amenity for amenity in amenities]}\n",
    "patternsInstances = {}\n",
    "patternsPrevs = {1: {amenity:1 for amenity in amenities}}\n",
    "\n",
    "k = 2\n",
    "while len(patterns[k-1]):\n",
    "\n",
    "    print('Length:', k)\n",
    "    print('Generating')\n",
    "    candidates = generateCandidates(patterns[k-1], amenities, patternsPrevs, k-1)\n",
    "    if not len(candidates):\n",
    "        break\n",
    "    print('Candiates: ', len(candidates))\n",
    "    starInstances = {}\n",
    "    print('Getting Stars')\n",
    "    for colocation in tqdm(candidates):\n",
    "        colocationSplit = colocation.split('.')\n",
    "        starInstances[colocation] = (colocationSplit, [instance for types, instance in neighborsByAmenity[colocationSplit[0]]\n",
    "                                               if checkStar(types, colocationSplit)])\n",
    "\n",
    "    cliques = {}\n",
    "    patternsInstances[k] = {}\n",
    "    patternsPrevs[k] = {}\n",
    "    print('Checking Stars')\n",
    "    for colocation, (colocationSplit, instances) in tqdm(starInstances.items()):\n",
    "        if len(instances):\n",
    "            if k == 2:\n",
    "                cliqueInstances = genSecondPatterns(colocationSplit, instances)\n",
    "                patternPrev = calculcatePatternPrevalence(colocationSplit, cliqueInstances, amenitiesCounts)\n",
    "                patternsPrevs[k][colocation] = patternPrev\n",
    "                if patternPrev >= th:\n",
    "                    patternsInstances[k][colocation] = cliqueInstances\n",
    "\n",
    "            else:\n",
    "                cliqueInstances = genMorePatterns(colocationSplit, instances, patternsInstances)\n",
    "                if len(cliqueInstances):\n",
    "                    patternPrev = calculcatePatternPrevalence(colocationSplit, cliqueInstances, amenitiesCounts)\n",
    "                    patternsPrevs[k][colocation] = patternPrev\n",
    "                    if patternPrev >= th:\n",
    "                        patternsInstances[k][colocation] = cliqueInstances\n",
    "    patterns[k] = {clique:len(instances) for clique, instances in patternsInstances[k].items()}\n",
    "    print('Patterns: ', len(patterns[k]))\n",
    "    print('')\n",
    "    k += 1\n",
    "\n",
    "miningTime = time()-start\n",
    "print('Mining algorithm took',miningTime , 'to execute')"
   ]
  },
  {
   "cell_type": "code",
   "execution_count": 99,
   "metadata": {
    "collapsed": true
   },
   "outputs": [],
   "source": [
    "def mineCityStarPatternsNaive(cityName):\n",
    "    data = cities[cityName]\n",
    "    data = data.drop_duplicates(['latitude','longitude','type'])\n",
    "    print(cityName)\n",
    "    print(len(data))\n",
    "    \n",
    "    start = time()\n",
    "    \n",
    "    minLat, minLng, maxLat, maxLng =  data.latitude.min(), data.longitude.min(), data.latitude.max(), data.longitude.max()\n",
    "    cellsCoords, hashTable, lngEps, latEps = initializeContainers(minLat, minLng, maxLat, maxLng)\n",
    "\n",
    "    sortedAmenities = {}\n",
    "    for amenityType, locations in data.groupby('type'):\n",
    "        sortedAmenities[amenityType] = list(zip(locations.latitude.tolist(),\n",
    "                                                locations.longitude.tolist(),\n",
    "                                               locations.type.tolist()))\n",
    "        sortedAmenities[amenityType].sort(key = lambda x : x[0])\n",
    "\n",
    "    amenityLocations = [(key, value) for (key, value) in sortedAmenities.items()]\n",
    "    amenityLocations.sort(key = lambda x: x[0])\n",
    "    print('Sorting took', time()-start, 'to execute')\n",
    "\n",
    "    neighborsByAmenity = {}\n",
    "    start = time()\n",
    "    for amenityTypeId, (amenityType, locations) in enumerate(amenityLocations):\n",
    "        print(amenityTypeId, amenityType)\n",
    "        amenityNeighbors = []\n",
    "        for location in locations:\n",
    "            locationNeighbors = []\n",
    "            for (nextAmenityType, nextLocations) in amenityLocations[amenityTypeId+1:]:\n",
    "                for neighborLocation in nextLocations:\n",
    "                    if neighborLocation[0] -  location[0] < -lngEps:\n",
    "                        continue\n",
    "                    if location[0] - neighborLocation[0] > lngEps:\n",
    "                        break\n",
    "                    if vincenty(location[:2], neighborLocation[:2]).meters <= 50:\n",
    "                        locationNeighbors.append(neighborLocation)\n",
    "            amenityNeighbors.append((location, locationNeighbors))\n",
    "        neighborsByAmenity[amenityType] = amenityNeighbors\n",
    "    print(time()-start, 'to execute')\n",
    "    \n",
    "    print('Mining algorithm took', time() - start, 'to execute')\n",
    "    return cityName, len(data), neighborsByAmenity, time() - start"
   ]
  },
  {
   "cell_type": "code",
   "execution_count": 96,
   "metadata": {
    "collapsed": true
   },
   "outputs": [],
   "source": [
    "parsedCities = [(cityResult[0], cityResult[2]) for cityResult in resultsHuge]"
   ]
  },
  {
   "cell_type": "code",
   "execution_count": 101,
   "metadata": {
    "collapsed": false
   },
   "outputs": [
    {
     "data": {
      "text/plain": [
       "[('San_Jose', 97.30674004554749),\n",
       " ('Birmingham', 37.33728098869324),\n",
       " ('Pittsburgh', 61.98917102813721),\n",
       " ('Washington', 113.27261400222778),\n",
       " ('Milwaukee', 55.38756799697876),\n",
       " ('San_Francisco', 204.99248504638672),\n",
       " ('Orlando', 65.90241193771362),\n",
       " ('Boston', 145.76894807815552),\n",
       " ('Portland', 174.08488607406616),\n",
       " ('Richmond', 30.8624210357666),\n",
       " ('Nashville', 75.48789095878601),\n",
       " ('Miami', 83.93346881866455),\n",
       " ('Austin', 104.4635260105133),\n",
       " ('Cincinnati', 48.10244083404541),\n",
       " ('Columbus', 72.25601005554199),\n",
       " ('Cleveland', 50.01270008087158),\n",
       " ('Detroit', 62.98502993583679),\n",
       " ('Lousville', 54.89523410797119),\n",
       " ('Memphis', 49.70860695838928),\n",
       " ('Oklahoma', 52.0308141708374),\n",
       " ('Riverside', 26.514925956726074),\n",
       " ('Buffalo', 20.34398102760315),\n",
       " ('San_Diego', 269.6417911052704),\n",
       " ('Jacksonville', 43.054044008255005),\n",
       " ('Baltimore', 85.42698097229004),\n",
       " ('Providence', 31.82670021057129),\n",
       " ('Chicago', 340.353355884552),\n",
       " ('Las_Vegas', 111.03325605392456),\n",
       " ('Dallas', 170.3950479030609),\n",
       " ('Philadelphia', 226.9371418952942),\n",
       " ('New_Orleans', 62.90603995323181),\n",
       " ('Phoenix', 124.24688792228699),\n",
       " ('Raleigh', 39.34567308425903),\n",
       " ('Indianapolis', 48.94856595993042),\n",
       " ('Charlotte', 56.729904890060425),\n",
       " ('Sacramento', 67.68804502487183),\n",
       " ('St_Louis', 24.553786993026733)]"
      ]
     },
     "execution_count": 101,
     "metadata": {},
     "output_type": "execute_result"
    }
   ],
   "source": [
    "parsedCities"
   ]
  },
  {
   "cell_type": "code",
   "execution_count": 104,
   "metadata": {
    "collapsed": false
   },
   "outputs": [
    {
     "data": {
      "text/plain": [
       "4"
      ]
     },
     "execution_count": 104,
     "metadata": {},
     "output_type": "execute_result"
    }
   ],
   "source": [
    "len(allResultsNaive)"
   ]
  },
  {
   "cell_type": "code",
   "execution_count": 103,
   "metadata": {
    "collapsed": false
   },
   "outputs": [
    {
     "name": "stdout",
     "output_type": "stream",
     "text": [
      "San_Jose\n",
      "35011\n",
      "Sorting took 0.06961894035339355 to execute\n",
      "0 accounting\n",
      "1 airport\n",
      "2 amusement_park\n",
      "3 aquarium\n",
      "4 art_gallery\n",
      "5 atm\n",
      "6 bakery\n",
      "7 bar\n",
      "8 beauty_salon\n",
      "9 bicycle_store\n",
      "10 book_store\n",
      "11 bowling_alley\n",
      "12 bus_station\n",
      "13 cafe\n",
      "14 car_dealer\n",
      "15 car_rental\n",
      "16 car_repair\n",
      "17 car_wash\n",
      "18 casino\n",
      "19 cemetery\n",
      "20 city_hall\n",
      "21 clothing_store\n",
      "22 construction_contractor\n",
      "23 convenience_store\n",
      "24 courthouse\n",
      "25 dentist\n",
      "26 department_store\n",
      "27 doctor\n",
      "28 electronics_store\n",
      "29 embassy\n",
      "30 finance\n",
      "31 fire_station\n",
      "32 florist\n",
      "33 funeral_home\n",
      "34 furniture_store\n",
      "35 gas_station\n",
      "36 grocery_or_supermarket\n",
      "37 gym\n",
      "38 hardware_store\n",
      "39 home_goods_store\n",
      "40 hospital\n",
      "41 hotel_and_lodging\n",
      "42 insurance_agency\n",
      "43 jewelry_store\n",
      "44 laundry\n",
      "45 lawyer\n",
      "46 library\n",
      "47 liquor_store\n",
      "48 local_government_office\n",
      "49 locksmith\n",
      "50 movie_theater\n",
      "51 moving_company\n",
      "52 museum\n",
      "53 night_club\n",
      "54 park\n",
      "55 parking\n",
      "56 pet_store\n",
      "57 pharmacy\n",
      "58 physiotherapist\n",
      "59 police\n",
      "60 post_office\n",
      "61 real_estate_agency\n",
      "62 religious_centers\n",
      "63 restaurant\n",
      "64 school\n",
      "65 shoe_store\n",
      "66 spa\n",
      "67 stadium\n",
      "68 storage\n",
      "69 train_station\n",
      "70 travel_agency\n",
      "71 university\n",
      "72 veterinary_care\n",
      "73 zoo\n",
      "9036.406744003296 to execute\n",
      "Mining algorithm took 9036.408234119415 to execute\n",
      "Birmingham\n",
      "18703\n",
      "Sorting took 0.04389500617980957 to execute\n",
      "0 accounting\n",
      "1 airport\n",
      "2 aquarium\n",
      "3 art_gallery\n",
      "4 atm\n",
      "5 bakery\n",
      "6 bar\n",
      "7 beauty_salon\n",
      "8 bicycle_store\n",
      "9 book_store\n",
      "10 bowling_alley\n",
      "11 bus_station\n",
      "12 cafe\n",
      "13 car_dealer\n",
      "14 car_rental\n",
      "15 car_repair\n",
      "16 car_wash\n",
      "17 cemetery\n",
      "18 city_hall\n",
      "19 clothing_store\n",
      "20 construction_contractor\n",
      "21 convenience_store\n",
      "22 courthouse\n",
      "23 dentist\n",
      "24 department_store\n",
      "25 doctor\n",
      "26 electronics_store\n",
      "27 embassy\n",
      "28 finance\n",
      "29 fire_station\n",
      "30 florist\n",
      "31 funeral_home\n",
      "32 furniture_store\n",
      "33 gas_station\n",
      "34 grocery_or_supermarket\n",
      "35 gym\n",
      "36 hardware_store\n",
      "37 home_goods_store\n",
      "38 hospital\n",
      "39 hotel_and_lodging\n",
      "40 insurance_agency\n",
      "41 jewelry_store\n",
      "42 laundry\n",
      "43 lawyer\n",
      "44 library\n",
      "45 liquor_store\n",
      "46 local_government_office\n",
      "47 locksmith\n",
      "48 movie_theater\n",
      "49 moving_company\n",
      "50 museum\n",
      "51 night_club\n",
      "52 park\n",
      "53 parking\n",
      "54 pet_store\n",
      "55 pharmacy\n",
      "56 physiotherapist\n",
      "57 police\n",
      "58 post_office\n",
      "59 real_estate_agency\n",
      "60 religious_centers\n",
      "61 restaurant\n",
      "62 school\n",
      "63 shoe_store\n",
      "64 spa\n",
      "65 stadium\n",
      "66 storage\n",
      "67 train_station\n",
      "68 travel_agency\n",
      "69 university\n",
      "70 veterinary_care\n",
      "2521.1152770519257 to execute\n",
      "Mining algorithm took 2521.1166751384735 to execute\n",
      "Pittsburgh\n",
      "17892\n",
      "Sorting took 0.04163408279418945 to execute\n",
      "0 accounting\n",
      "1 airport\n",
      "2 amusement_park\n",
      "3 art_gallery\n",
      "4 atm\n",
      "5 bakery\n",
      "6 bar\n",
      "7 beauty_salon\n",
      "8 bicycle_store\n",
      "9 book_store\n",
      "10 bowling_alley\n",
      "11 bus_station\n",
      "12 cafe\n",
      "13 car_dealer\n",
      "14 car_rental\n",
      "15 car_repair\n",
      "16 car_wash\n",
      "17 casino\n",
      "18 cemetery\n",
      "19 city_hall\n",
      "20 clothing_store\n",
      "21 construction_contractor\n",
      "22 convenience_store\n",
      "23 courthouse\n",
      "24 dentist\n",
      "25 department_store\n",
      "26 doctor\n",
      "27 electronics_store\n",
      "28 embassy\n",
      "29 finance\n",
      "30 fire_station\n",
      "31 florist\n",
      "32 funeral_home\n",
      "33 furniture_store\n",
      "34 gas_station\n",
      "35 grocery_or_supermarket\n",
      "36 gym\n",
      "37 hardware_store\n",
      "38 home_goods_store\n",
      "39 hospital\n",
      "40 hotel_and_lodging\n",
      "41 insurance_agency\n",
      "42 jewelry_store\n",
      "43 laundry\n",
      "44 lawyer\n",
      "45 library\n",
      "46 liquor_store\n",
      "47 local_government_office\n",
      "48 locksmith\n",
      "49 movie_theater\n",
      "50 moving_company\n",
      "51 museum\n",
      "52 night_club\n",
      "53 park\n",
      "54 parking\n",
      "55 pet_store\n",
      "56 pharmacy\n",
      "57 physiotherapist\n",
      "58 police\n",
      "59 post_office\n",
      "60 real_estate_agency\n",
      "61 religious_centers\n",
      "62 restaurant\n",
      "63 school\n",
      "64 shoe_store\n",
      "65 spa\n",
      "66 stadium\n",
      "67 storage\n",
      "68 train_station\n",
      "69 travel_agency\n",
      "70 university\n",
      "71 veterinary_care\n",
      "72 zoo\n",
      "2271.275421142578 to execute\n",
      "Mining algorithm took 2271.2768020629883 to execute\n",
      "Washington\n",
      "24480\n",
      "Sorting took 0.0615839958190918 to execute\n",
      "0 accounting\n",
      "1 airport\n",
      "2 amusement_park\n",
      "3 aquarium\n",
      "4 art_gallery\n",
      "5 atm\n",
      "6 bakery\n",
      "7 bar\n",
      "8 beauty_salon\n",
      "9 bicycle_store\n",
      "10 book_store\n",
      "11 bowling_alley\n",
      "12 bus_station\n",
      "13 cafe\n",
      "14 car_dealer\n",
      "15 car_rental\n",
      "16 car_repair\n",
      "17 car_wash\n",
      "18 cemetery\n",
      "19 city_hall\n",
      "20 clothing_store\n",
      "21 construction_contractor\n",
      "22 convenience_store\n",
      "23 courthouse\n",
      "24 dentist\n",
      "25 department_store\n",
      "26 doctor\n",
      "27 electronics_store\n",
      "28 embassy\n",
      "29 finance\n",
      "30 fire_station\n",
      "31 florist\n",
      "32 funeral_home\n",
      "33 furniture_store\n",
      "34 gas_station\n",
      "35 grocery_or_supermarket\n",
      "36 gym\n",
      "37 hardware_store\n",
      "38 home_goods_store\n",
      "39 hospital\n",
      "40 hotel_and_lodging\n",
      "41 insurance_agency\n",
      "42 jewelry_store\n",
      "43 laundry\n",
      "44 lawyer\n",
      "45 library\n",
      "46 liquor_store\n",
      "47 local_government_office\n",
      "48 locksmith\n",
      "49 movie_theater\n",
      "50 moving_company\n",
      "51 museum\n",
      "52 night_club\n",
      "53 park\n",
      "54 parking\n",
      "55 pet_store\n",
      "56 pharmacy\n",
      "57 physiotherapist\n",
      "58 police\n",
      "59 post_office\n",
      "60 real_estate_agency\n",
      "61 religious_centers\n",
      "62 restaurant\n",
      "63 school\n",
      "64 shoe_store\n",
      "65 spa\n",
      "66 stadium\n",
      "67 storage\n",
      "68 train_station\n",
      "69 travel_agency\n",
      "70 university\n",
      "71 veterinary_care\n",
      "4458.200505971909 to execute\n",
      "Mining algorithm took 4458.201898813248 to execute\n",
      "Milwaukee\n",
      "22798\n",
      "Sorting took 0.04651904106140137 to execute\n",
      "0 accounting\n",
      "1 airport\n",
      "2 amusement_park\n",
      "3 aquarium\n",
      "4 art_gallery\n",
      "5 atm\n",
      "6 bakery\n",
      "7 bar\n"
     ]
    },
    {
     "ename": "KeyboardInterrupt",
     "evalue": "",
     "output_type": "error",
     "traceback": [
      "\u001b[0;31m---------------------------------------------------------------------------\u001b[0m",
      "\u001b[0;31mKeyboardInterrupt\u001b[0m                         Traceback (most recent call last)",
      "\u001b[0;32m<ipython-input-103-9edbf8ef3bef>\u001b[0m in \u001b[0;36m<module>\u001b[0;34m()\u001b[0m\n\u001b[1;32m      2\u001b[0m \u001b[0;32mfor\u001b[0m \u001b[0mcity\u001b[0m\u001b[0;34m,\u001b[0m \u001b[0mmTime\u001b[0m \u001b[0;32min\u001b[0m \u001b[0mparsedCities\u001b[0m\u001b[0;34m:\u001b[0m\u001b[0;34m\u001b[0m\u001b[0m\n\u001b[1;32m      3\u001b[0m     \u001b[0;32mif\u001b[0m \u001b[0mmTime\u001b[0m \u001b[0;34m<\u001b[0m \u001b[0;36m200\u001b[0m\u001b[0;34m:\u001b[0m\u001b[0;34m\u001b[0m\u001b[0m\n\u001b[0;32m----> 4\u001b[0;31m         \u001b[0mres\u001b[0m \u001b[0;34m=\u001b[0m \u001b[0mmineCityStarPatternsNaive\u001b[0m\u001b[0;34m(\u001b[0m\u001b[0mcity\u001b[0m\u001b[0;34m)\u001b[0m\u001b[0;34m\u001b[0m\u001b[0m\n\u001b[0m\u001b[1;32m      5\u001b[0m         \u001b[0mallResultsNaive\u001b[0m\u001b[0;34m.\u001b[0m\u001b[0mappend\u001b[0m\u001b[0;34m(\u001b[0m\u001b[0mres\u001b[0m\u001b[0;34m)\u001b[0m\u001b[0;34m\u001b[0m\u001b[0m\n",
      "\u001b[0;32m<ipython-input-99-ea75cf100359>\u001b[0m in \u001b[0;36mmineCityStarPatternsNaive\u001b[0;34m(cityName)\u001b[0m\n\u001b[1;32m     34\u001b[0m                     \u001b[0;32mif\u001b[0m \u001b[0mlocation\u001b[0m\u001b[0;34m[\u001b[0m\u001b[0;36m0\u001b[0m\u001b[0;34m]\u001b[0m \u001b[0;34m-\u001b[0m \u001b[0mneighborLocation\u001b[0m\u001b[0;34m[\u001b[0m\u001b[0;36m0\u001b[0m\u001b[0;34m]\u001b[0m \u001b[0;34m>\u001b[0m \u001b[0mlngEps\u001b[0m\u001b[0;34m:\u001b[0m\u001b[0;34m\u001b[0m\u001b[0m\n\u001b[1;32m     35\u001b[0m                         \u001b[0;32mbreak\u001b[0m\u001b[0;34m\u001b[0m\u001b[0m\n\u001b[0;32m---> 36\u001b[0;31m                     \u001b[0;32mif\u001b[0m \u001b[0mvincenty\u001b[0m\u001b[0;34m(\u001b[0m\u001b[0mlocation\u001b[0m\u001b[0;34m[\u001b[0m\u001b[0;34m:\u001b[0m\u001b[0;36m2\u001b[0m\u001b[0;34m]\u001b[0m\u001b[0;34m,\u001b[0m \u001b[0mneighborLocation\u001b[0m\u001b[0;34m[\u001b[0m\u001b[0;34m:\u001b[0m\u001b[0;36m2\u001b[0m\u001b[0;34m]\u001b[0m\u001b[0;34m)\u001b[0m\u001b[0;34m.\u001b[0m\u001b[0mmeters\u001b[0m \u001b[0;34m<=\u001b[0m \u001b[0;36m50\u001b[0m\u001b[0;34m:\u001b[0m\u001b[0;34m\u001b[0m\u001b[0m\n\u001b[0m\u001b[1;32m     37\u001b[0m                         \u001b[0mlocationNeighbors\u001b[0m\u001b[0;34m.\u001b[0m\u001b[0mappend\u001b[0m\u001b[0;34m(\u001b[0m\u001b[0mneighborLocation\u001b[0m\u001b[0;34m)\u001b[0m\u001b[0;34m\u001b[0m\u001b[0m\n\u001b[1;32m     38\u001b[0m             \u001b[0mamenityNeighbors\u001b[0m\u001b[0;34m.\u001b[0m\u001b[0mappend\u001b[0m\u001b[0;34m(\u001b[0m\u001b[0;34m(\u001b[0m\u001b[0mlocation\u001b[0m\u001b[0;34m,\u001b[0m \u001b[0mlocationNeighbors\u001b[0m\u001b[0;34m)\u001b[0m\u001b[0;34m)\u001b[0m\u001b[0;34m\u001b[0m\u001b[0m\n",
      "\u001b[0;32m/Library/Frameworks/Python.framework/Versions/3.5/lib/python3.5/site-packages/geopy/distance.py\u001b[0m in \u001b[0;36m__init__\u001b[0;34m(self, *args, **kwargs)\u001b[0m\n\u001b[1;32m    320\u001b[0m         \u001b[0mself\u001b[0m\u001b[0;34m.\u001b[0m\u001b[0miterations\u001b[0m \u001b[0;34m=\u001b[0m \u001b[0mkwargs\u001b[0m\u001b[0;34m.\u001b[0m\u001b[0mpop\u001b[0m\u001b[0;34m(\u001b[0m\u001b[0;34m'iterations'\u001b[0m\u001b[0;34m,\u001b[0m \u001b[0;36m20\u001b[0m\u001b[0;34m)\u001b[0m\u001b[0;34m\u001b[0m\u001b[0m\n\u001b[1;32m    321\u001b[0m         \u001b[0mmajor\u001b[0m\u001b[0;34m,\u001b[0m \u001b[0mminor\u001b[0m\u001b[0;34m,\u001b[0m \u001b[0mf\u001b[0m \u001b[0;34m=\u001b[0m \u001b[0mself\u001b[0m\u001b[0;34m.\u001b[0m\u001b[0mELLIPSOID\u001b[0m \u001b[0;31m# pylint: disable=W0612\u001b[0m\u001b[0;34m\u001b[0m\u001b[0m\n\u001b[0;32m--> 322\u001b[0;31m         \u001b[0msuper\u001b[0m\u001b[0;34m(\u001b[0m\u001b[0mvincenty\u001b[0m\u001b[0;34m,\u001b[0m \u001b[0mself\u001b[0m\u001b[0;34m)\u001b[0m\u001b[0;34m.\u001b[0m\u001b[0m__init__\u001b[0m\u001b[0;34m(\u001b[0m\u001b[0;34m*\u001b[0m\u001b[0margs\u001b[0m\u001b[0;34m,\u001b[0m \u001b[0;34m**\u001b[0m\u001b[0mkwargs\u001b[0m\u001b[0;34m)\u001b[0m\u001b[0;34m\u001b[0m\u001b[0m\n\u001b[0m\u001b[1;32m    323\u001b[0m \u001b[0;34m\u001b[0m\u001b[0m\n\u001b[1;32m    324\u001b[0m     \u001b[0;32mdef\u001b[0m \u001b[0mset_ellipsoid\u001b[0m\u001b[0;34m(\u001b[0m\u001b[0mself\u001b[0m\u001b[0;34m,\u001b[0m \u001b[0mellipsoid\u001b[0m\u001b[0;34m)\u001b[0m\u001b[0;34m:\u001b[0m\u001b[0;34m\u001b[0m\u001b[0m\n",
      "\u001b[0;32m/Library/Frameworks/Python.framework/Versions/3.5/lib/python3.5/site-packages/geopy/distance.py\u001b[0m in \u001b[0;36m__init__\u001b[0;34m(self, *args, **kwargs)\u001b[0m\n\u001b[1;32m    113\u001b[0m         \u001b[0;32melif\u001b[0m \u001b[0mlen\u001b[0m\u001b[0;34m(\u001b[0m\u001b[0margs\u001b[0m\u001b[0;34m)\u001b[0m \u001b[0;34m>\u001b[0m \u001b[0;36m1\u001b[0m\u001b[0;34m:\u001b[0m\u001b[0;34m\u001b[0m\u001b[0m\n\u001b[1;32m    114\u001b[0m             \u001b[0;32mfor\u001b[0m \u001b[0ma\u001b[0m\u001b[0;34m,\u001b[0m \u001b[0mb\u001b[0m \u001b[0;32min\u001b[0m \u001b[0mutil\u001b[0m\u001b[0;34m.\u001b[0m\u001b[0mpairwise\u001b[0m\u001b[0;34m(\u001b[0m\u001b[0margs\u001b[0m\u001b[0;34m)\u001b[0m\u001b[0;34m:\u001b[0m\u001b[0;34m\u001b[0m\u001b[0m\n\u001b[0;32m--> 115\u001b[0;31m                 \u001b[0mkilometers\u001b[0m \u001b[0;34m+=\u001b[0m \u001b[0mself\u001b[0m\u001b[0;34m.\u001b[0m\u001b[0mmeasure\u001b[0m\u001b[0;34m(\u001b[0m\u001b[0ma\u001b[0m\u001b[0;34m,\u001b[0m \u001b[0mb\u001b[0m\u001b[0;34m)\u001b[0m\u001b[0;34m\u001b[0m\u001b[0m\n\u001b[0m\u001b[1;32m    116\u001b[0m \u001b[0;34m\u001b[0m\u001b[0m\n\u001b[1;32m    117\u001b[0m         \u001b[0mkilometers\u001b[0m \u001b[0;34m+=\u001b[0m \u001b[0munits\u001b[0m\u001b[0;34m.\u001b[0m\u001b[0mkilometers\u001b[0m\u001b[0;34m(\u001b[0m\u001b[0;34m**\u001b[0m\u001b[0mkwargs\u001b[0m\u001b[0;34m)\u001b[0m\u001b[0;34m\u001b[0m\u001b[0m\n",
      "\u001b[0;32m/Library/Frameworks/Python.framework/Versions/3.5/lib/python3.5/site-packages/geopy/distance.py\u001b[0m in \u001b[0;36mmeasure\u001b[0;34m(self, a, b)\u001b[0m\n\u001b[1;32m    396\u001b[0m                 \u001b[0mcos2_sigma_m\u001b[0m \u001b[0;34m=\u001b[0m \u001b[0;36m0.0\u001b[0m \u001b[0;31m# Equatorial line\u001b[0m\u001b[0;34m\u001b[0m\u001b[0m\n\u001b[1;32m    397\u001b[0m \u001b[0;34m\u001b[0m\u001b[0m\n\u001b[0;32m--> 398\u001b[0;31m             \u001b[0mC\u001b[0m \u001b[0;34m=\u001b[0m \u001b[0mf\u001b[0m \u001b[0;34m/\u001b[0m \u001b[0;36m16.\u001b[0m \u001b[0;34m*\u001b[0m \u001b[0mcos_sq_alpha\u001b[0m \u001b[0;34m*\u001b[0m \u001b[0;34m(\u001b[0m\u001b[0;36m4\u001b[0m \u001b[0;34m+\u001b[0m \u001b[0mf\u001b[0m \u001b[0;34m*\u001b[0m \u001b[0;34m(\u001b[0m\u001b[0;36m4\u001b[0m \u001b[0;34m-\u001b[0m \u001b[0;36m3\u001b[0m \u001b[0;34m*\u001b[0m \u001b[0mcos_sq_alpha\u001b[0m\u001b[0;34m)\u001b[0m\u001b[0;34m)\u001b[0m\u001b[0;34m\u001b[0m\u001b[0m\n\u001b[0m\u001b[1;32m    399\u001b[0m \u001b[0;34m\u001b[0m\u001b[0m\n\u001b[1;32m    400\u001b[0m             \u001b[0mlambda_prime\u001b[0m \u001b[0;34m=\u001b[0m \u001b[0mlambda_lng\u001b[0m\u001b[0;34m\u001b[0m\u001b[0m\n",
      "\u001b[0;31mKeyboardInterrupt\u001b[0m: "
     ]
    }
   ],
   "source": [
    "allResultsNaive = []\n",
    "for city, mTime in parsedCities:\n",
    "    if mTime < 200:\n",
    "        res = mineCityStarPatternsNaive(city)\n",
    "        allResultsNaive.append(res)"
   ]
  },
  {
   "cell_type": "code",
   "execution_count": null,
   "metadata": {
    "collapsed": false
   },
   "outputs": [],
   "source": [
    "res = mineCityStarPatternsNaive('Providence')"
   ]
  },
  {
   "cell_type": "code",
   "execution_count": null,
   "metadata": {
    "collapsed": false
   },
   "outputs": [],
   "source": [
    "allResults = []\n",
    "for city, data in cities.items():\n",
    "    try:\n",
    "        city, dataLen, neighborsByAmenity, materTime = mineCityStarPatterns(city)\n",
    "        amenitiesCounts = defaultdict(lambda: 0)\n",
    "        for amenity in amenities:\n",
    "            amenitiesCounts[amenity] = len(data[data.type == amenity])\n",
    "        \n",
    "        start = time()\n",
    "        patterns = {1: [amenity for amenity in amenities]}\n",
    "        patternsInstances = {}\n",
    "        patternsPrevs = {1: {amenity:1 for amenity in amenities}}\n",
    "        \n",
    "        k = 2\n",
    "        while len(patterns[k-1]):\n",
    "\n",
    "            print('Length:', k)\n",
    "            print('Generating')\n",
    "            candidates = generateCandidates(patterns[k-1], amenities, patternsPrevs, k-1)\n",
    "            if not len(candidates):\n",
    "                break\n",
    "            print('Candiates: ', len(candidates))\n",
    "            starInstances = {}\n",
    "            print('Getting Stars')\n",
    "            for colocation in tqdm(candidates):\n",
    "                colocationSplit = colocation.split('.')\n",
    "                starInstances[colocation] = (colocationSplit, [instance for types, instance in neighborsByAmenity[colocationSplit[0]]\n",
    "                                                       if checkStar(types, colocationSplit)])\n",
    "\n",
    "            cliques = {}\n",
    "            patternsInstances[k] = {}\n",
    "            patternsPrevs[k] = {}\n",
    "            print('Checking Stars')\n",
    "            for colocation, (colocationSplit, instances) in tqdm(starInstances.items()):\n",
    "                if len(instances):\n",
    "                    if k == 2:\n",
    "                        cliqueInstances = genSecondPatterns(colocationSplit, instances)\n",
    "                        patternPrev = calculcatePatternPrevalence(colocationSplit, cliqueInstances, amenitiesCounts)\n",
    "                        patternsPrevs[k][colocation] = patternPrev\n",
    "                        if patternPrev >= th:\n",
    "                            patternsInstances[k][colocation] = cliqueInstances\n",
    "\n",
    "                    else:\n",
    "                        cliqueInstances = genMorePatterns(colocationSplit, instances, patternsInstances)\n",
    "                        if len(cliqueInstances):\n",
    "                            patternPrev = calculcatePatternPrevalence(colocationSplit, cliqueInstances, amenitiesCounts)\n",
    "                            patternsPrevs[k][colocation] = patternPrev\n",
    "                            if patternPrev >= th:\n",
    "                                patternsInstances[k][colocation] = cliqueInstances\n",
    "            patterns[k] = {clique:len(instances) for clique, instances in patternsInstances[k].items()}\n",
    "            print('Patterns: ', len(patterns[k]))\n",
    "            print('')\n",
    "            k += 1\n",
    "    \n",
    "        miningTime = time()-start\n",
    "        print('Mining algorithm took',miningTime , 'to execute')\n",
    "        allResults.append([city, dataLen, materTime, miningTime, materTime+miningTime, patterns, patternsInstances, patternsPrevs])\n",
    "        break\n",
    "    except Exception as e:\n",
    "        print(e)"
   ]
  },
  {
   "cell_type": "code",
   "execution_count": 105,
   "metadata": {
    "collapsed": false
   },
   "outputs": [],
   "source": [
    "with open('Patterns/allResultsNaive.json','w') as outfile:\n",
    "    json.dump(allResultsNaive, outfile)"
   ]
  },
  {
   "cell_type": "code",
   "execution_count": 25,
   "metadata": {
    "collapsed": true
   },
   "outputs": [],
   "source": [
    "#Analysis"
   ]
  },
  {
   "cell_type": "code",
   "execution_count": 32,
   "metadata": {
    "collapsed": false
   },
   "outputs": [
    {
     "data": {
      "text/plain": [
       "37"
      ]
     },
     "execution_count": 32,
     "metadata": {},
     "output_type": "execute_result"
    }
   ],
   "source": [
    "len(resultsHuge)"
   ]
  },
  {
   "cell_type": "code",
   "execution_count": 35,
   "metadata": {
    "collapsed": true
   },
   "outputs": [],
   "source": [
    "import plotly.graph_objs as go\n",
    "from plotly.offline import iplot, init_notebook_mode\n",
    "init_notebook_mode()"
   ]
  },
  {
   "cell_type": "code",
   "execution_count": 41,
   "metadata": {
    "collapsed": false
   },
   "outputs": [
    {
     "data": {
      "text/html": [
       "<div id=\"033961e5-7eed-4e66-947a-ec6fce0960a9\" style=\"height: 525; width: 100%;\" class=\"plotly-graph-div\"></div><script type=\"text/javascript\">require([\"plotly\"], function(Plotly) { window.PLOTLYENV=window.PLOTLYENV || {};window.PLOTLYENV.BASE_URL=\"https://plot.ly\";Plotly.newPlot(\"033961e5-7eed-4e66-947a-ec6fce0960a9\", [{\"type\": \"scatter\", \"mode\": \"markers+text\", \"text\": [\"San_Jose\", \"Birmingham\", \"Pittsburgh\", \"Washington\", \"Milwaukee\", \"San_Francisco\", \"Orlando\", \"Boston\", \"Portland\", \"Richmond\", \"Nashville\", \"Miami\", \"Austin\", \"Cincinnati\", \"Columbus\", \"Cleveland\", \"Detroit\", \"Lousville\", \"Memphis\", \"Oklahoma\", \"Riverside\", \"Buffalo\", \"San_Diego\", \"Jacksonville\", \"Baltimore\", \"Providence\", \"Chicago\", \"Las_Vegas\", \"Dallas\", \"Philadelphia\", \"New_Orleans\", \"Phoenix\", \"Raleigh\", \"Indianapolis\", \"Charlotte\", \"Sacramento\", \"St_Louis\"], \"x\": [35.011, 18.703, 17.892, 24.48, 22.798, 19.791, 27.383, 22.979, 36.665, 11.164, 25.389, 20.246, 35.614, 18.352, 33.558, 20.541, 30.249, 25.853, 24.493, 25.5, 9.803, 8.106, 65.261, 27.106, 18.458, 8.104, 65.601, 43.737, 68.366, 46.477, 17.274, 54.999, 19.373, 24.214, 26.41, 22.987, 13.61], \"y\": [97.30674004554749, 37.33728098869324, 61.98917102813721, 113.27261400222778, 55.38756799697876, 204.99248504638672, 65.90241193771362, 145.76894807815552, 174.08488607406616, 30.8624210357666, 75.48789095878601, 83.93346881866455, 104.4635260105133, 48.10244083404541, 72.25601005554199, 50.01270008087158, 62.98502993583679, 54.89523410797119, 49.70860695838928, 52.0308141708374, 26.514925956726074, 20.34398102760315, 269.6417911052704, 43.054044008255005, 85.42698097229004, 31.82670021057129, 340.353355884552, 111.03325605392456, 170.3950479030609, 226.9371418952942, 62.90603995323181, 124.24688792228699, 39.34567308425903, 48.94856595993042, 56.729904890060425, 67.68804502487183, 24.553786993026733]}], {\"title\": \"Materialization time\", \"yaxis\": {\"title\": \"Time, Seconds\"}, \"hovermode\": \"closest\", \"xaxis\": {\"title\": \"Locations, Thousands\"}}, {\"linkText\": \"Export to plot.ly\", \"showLink\": true})});</script>"
      ],
      "text/plain": [
       "<IPython.core.display.HTML object>"
      ]
     },
     "metadata": {},
     "output_type": "display_data"
    }
   ],
   "source": [
    "scatter = go.Scatter(\n",
    "    x = [res[1]/1000.0 for res in resultsHuge],\n",
    "    y = [res[2] for res in resultsHuge],\n",
    "    mode = 'markers+text',\n",
    "    text = [res[0] for res in resultsHuge]\n",
    ")\n",
    "layout = go.Layout(\n",
    "    title='Materialization time',\n",
    "    hovermode='closest',\n",
    "    xaxis=dict(\n",
    "        title='Locations, Thousands',\n",
    "    ),\n",
    "    yaxis=dict(\n",
    "        title='Time, Seconds',\n",
    "    ),\n",
    ")\n",
    "fig = go.Figure(data = [scatter], layout = layout)\n",
    "iplot(fig)"
   ]
  },
  {
   "cell_type": "code",
   "execution_count": 42,
   "metadata": {
    "collapsed": false
   },
   "outputs": [
    {
     "data": {
      "text/html": [
       "<div id=\"6f78ebeb-6b54-4163-8e4a-36a7a61b3568\" style=\"height: 525; width: 100%;\" class=\"plotly-graph-div\"></div><script type=\"text/javascript\">require([\"plotly\"], function(Plotly) { window.PLOTLYENV=window.PLOTLYENV || {};window.PLOTLYENV.BASE_URL=\"https://plot.ly\";Plotly.newPlot(\"6f78ebeb-6b54-4163-8e4a-36a7a61b3568\", [{\"type\": \"scatter\", \"mode\": \"markers+text\", \"text\": [\"San_Jose\", \"Birmingham\", \"Pittsburgh\", \"Washington\", \"Milwaukee\", \"San_Francisco\", \"Orlando\", \"Boston\", \"Portland\", \"Richmond\", \"Nashville\", \"Miami\", \"Austin\", \"Cincinnati\", \"Columbus\", \"Cleveland\", \"Detroit\", \"Lousville\", \"Memphis\", \"Oklahoma\", \"Riverside\", \"Buffalo\", \"San_Diego\", \"Jacksonville\", \"Baltimore\", \"Providence\", \"Chicago\", \"Las_Vegas\", \"Dallas\", \"Philadelphia\", \"New_Orleans\", \"Phoenix\", \"Raleigh\", \"Indianapolis\", \"Charlotte\", \"Sacramento\", \"St_Louis\"], \"x\": [35.011, 18.703, 17.892, 24.48, 22.798, 19.791, 27.383, 22.979, 36.665, 11.164, 25.389, 20.246, 35.614, 18.352, 33.558, 20.541, 30.249, 25.853, 24.493, 25.5, 9.803, 8.106, 65.261, 27.106, 18.458, 8.104, 65.601, 43.737, 68.366, 46.477, 17.274, 54.999, 19.373, 24.214, 26.41, 22.987, 13.61], \"y\": [8.317876100540161, 1.1488978862762451, 4.749381065368652, 16.98568606376648, 1.3062999248504639, 677.5640988349915, 436.1519410610199, 17.632334232330322, 130.05599188804626, 0.5499699115753174, 2.431101083755493, 14.317347049713135, 32.109368085861206, 1.4723289012908936, 2.3232028484344482, 864.0261559486389, 2.086359977722168, 5.326332092285156, 1.9885690212249756, 2.001944065093994, 2.7405710220336914, 1.0737969875335693, 894.2874310016632, 7.306946039199829, 1.6988508701324463, 0.9290580749511719, 324.56393599510193, 10.963729858398438, 52.20952796936035, 15.604728937149048, 1.1278440952301025, 11.85096001625061, 4.040786027908325, 1.081644058227539, 6.125484943389893, 1.9481399059295654, 0.9118249416351318]}], {\"title\": \"Mining time\", \"yaxis\": {\"title\": \"Time, Seconds\"}, \"hovermode\": \"closest\", \"xaxis\": {\"title\": \"Locations, Thousands\"}}, {\"linkText\": \"Export to plot.ly\", \"showLink\": true})});</script>"
      ],
      "text/plain": [
       "<IPython.core.display.HTML object>"
      ]
     },
     "metadata": {},
     "output_type": "display_data"
    }
   ],
   "source": [
    "scatter = go.Scatter(\n",
    "    x = [res[1]/1000.0 for res in resultsHuge],\n",
    "    y = [res[3] for res in resultsHuge],\n",
    "    mode = 'markers+text',\n",
    "    text = [res[0] for res in resultsHuge]\n",
    ")\n",
    "layout = go.Layout(\n",
    "    title='Mining time',\n",
    "    hovermode='closest',\n",
    "    xaxis=dict(\n",
    "        title='Locations, Thousands',\n",
    "    ),\n",
    "    yaxis=dict(\n",
    "        title='Time, Seconds',\n",
    "    ),\n",
    ")\n",
    "fig = go.Figure(data = [scatter], layout = layout)\n",
    "iplot(fig)"
   ]
  },
  {
   "cell_type": "code",
   "execution_count": 112,
   "metadata": {
    "collapsed": false
   },
   "outputs": [
    {
     "data": {
      "text/plain": [
       "9036.410817146301"
      ]
     },
     "execution_count": 112,
     "metadata": {},
     "output_type": "execute_result"
    }
   ],
   "source": [
    "allResultsNaive[0][3]"
   ]
  },
  {
   "cell_type": "code",
   "execution_count": 114,
   "metadata": {
    "collapsed": false
   },
   "outputs": [
    {
     "data": {
      "text/html": [
       "<div id=\"015f4525-54bd-4c4a-b762-6df738aa7484\" style=\"height: 525; width: 100%;\" class=\"plotly-graph-div\"></div><script type=\"text/javascript\">require([\"plotly\"], function(Plotly) { window.PLOTLYENV=window.PLOTLYENV || {};window.PLOTLYENV.BASE_URL=\"https://plot.ly\";Plotly.newPlot(\"015f4525-54bd-4c4a-b762-6df738aa7484\", [{\"type\": \"scatter\", \"mode\": \"markers+text\", \"text\": [\"San_Jose\", \"Birmingham\", \"Pittsburgh\", \"Washington\", \"Milwaukee\", \"San_Francisco\", \"Orlando\", \"Boston\", \"Portland\", \"Richmond\", \"Nashville\", \"Miami\", \"Austin\", \"Cincinnati\", \"Columbus\", \"Cleveland\", \"Detroit\", \"Lousville\", \"Memphis\", \"Oklahoma\", \"Riverside\", \"Buffalo\", \"San_Diego\", \"Jacksonville\", \"Baltimore\", \"Providence\", \"Chicago\", \"Las_Vegas\", \"Dallas\", \"Philadelphia\", \"New_Orleans\", \"Phoenix\", \"Raleigh\", \"Indianapolis\", \"Charlotte\", \"Sacramento\", \"St_Louis\"], \"x\": [35.011, 18.703, 17.892, 24.48], \"y\": [9036.410817146301, 2521.1187472343445, 2271.278633117676, 4458.203847885132]}], {\"title\": \"Mater time Naive\", \"yaxis\": {\"title\": \"Time, Seconds\"}, \"hovermode\": \"closest\", \"xaxis\": {\"title\": \"Locations, Thousands\"}}, {\"linkText\": \"Export to plot.ly\", \"showLink\": true})});</script>"
      ],
      "text/plain": [
       "<IPython.core.display.HTML object>"
      ]
     },
     "metadata": {},
     "output_type": "display_data"
    }
   ],
   "source": [
    "scatter = go.Scatter(\n",
    "    x = [res[1]/1000.0 for res in allResultsNaive],\n",
    "    y = [res[3] for res in allResultsNaive],\n",
    "    mode = 'markers+text',\n",
    "    text = [res[0] for res in resultsHuge]\n",
    ")\n",
    "layout = go.Layout(\n",
    "    title='Mater time Naive',\n",
    "    hovermode='closest',\n",
    "    xaxis=dict(\n",
    "        title='Locations, Thousands',\n",
    "    ),\n",
    "    yaxis=dict(\n",
    "        title='Time, Seconds',\n",
    "    ),\n",
    ")\n",
    "fig = go.Figure(data = [scatter], layout = layout)\n",
    "iplot(fig)"
   ]
  },
  {
   "cell_type": "code",
   "execution_count": 70,
   "metadata": {
    "collapsed": true
   },
   "outputs": [],
   "source": [
    "patternInstancesPerCity = [cityResult[6] for cityResult in resultsHuge]"
   ]
  },
  {
   "cell_type": "code",
   "execution_count": 77,
   "metadata": {
    "collapsed": true
   },
   "outputs": [],
   "source": [
    "def flattenElements(array):\n",
    "    return [item for sublist in array for item in sublist]"
   ]
  },
  {
   "cell_type": "code",
   "execution_count": 81,
   "metadata": {
    "collapsed": false
   },
   "outputs": [],
   "source": [
    "patternTypesPerCity = [set(flattenElements([cityResult[k].keys()for k in cityResult.keys()])) for cityResult in patternInstancesPerCity]"
   ]
  },
  {
   "cell_type": "code",
   "execution_count": 85,
   "metadata": {
    "collapsed": false
   },
   "outputs": [
    {
     "data": {
      "text/plain": [
       "49"
      ]
     },
     "execution_count": 85,
     "metadata": {},
     "output_type": "execute_result"
    }
   ],
   "source": [
    "len(set.intersection(*patternTypesPerCity))"
   ]
  },
  {
   "cell_type": "code",
   "execution_count": null,
   "metadata": {
    "collapsed": true
   },
   "outputs": [],
   "source": [
    "'accounting.insurance_agency.lawyer'"
   ]
  },
  {
   "cell_type": "code",
   "execution_count": 86,
   "metadata": {
    "collapsed": false
   },
   "outputs": [
    {
     "data": {
      "text/plain": [
       "{'accounting.beauty_salon',\n",
       " 'accounting.dentist',\n",
       " 'accounting.doctor',\n",
       " 'accounting.finance',\n",
       " 'accounting.insurance_agency',\n",
       " 'accounting.insurance_agency.lawyer',\n",
       " 'accounting.lawyer',\n",
       " 'accounting.real_estate_agency',\n",
       " 'accounting.restaurant',\n",
       " 'atm.beauty_salon',\n",
       " 'atm.convenience_store',\n",
       " 'atm.finance',\n",
       " 'atm.restaurant',\n",
       " 'beauty_salon.clothing_store',\n",
       " 'beauty_salon.doctor',\n",
       " 'beauty_salon.finance',\n",
       " 'beauty_salon.insurance_agency',\n",
       " 'beauty_salon.lawyer',\n",
       " 'beauty_salon.real_estate_agency',\n",
       " 'beauty_salon.restaurant',\n",
       " 'car_repair.construction_contractor',\n",
       " 'clothing_store.home_goods_store',\n",
       " 'clothing_store.jewelry_store',\n",
       " 'clothing_store.restaurant',\n",
       " 'clothing_store.shoe_store',\n",
       " 'construction_contractor.doctor',\n",
       " 'construction_contractor.finance',\n",
       " 'construction_contractor.insurance_agency',\n",
       " 'construction_contractor.lawyer',\n",
       " 'construction_contractor.real_estate_agency',\n",
       " 'construction_contractor.restaurant',\n",
       " 'dentist.doctor',\n",
       " 'dentist.lawyer',\n",
       " 'dentist.real_estate_agency',\n",
       " 'doctor.finance',\n",
       " 'doctor.hospital',\n",
       " 'doctor.insurance_agency',\n",
       " 'doctor.lawyer',\n",
       " 'doctor.real_estate_agency',\n",
       " 'doctor.restaurant',\n",
       " 'finance.insurance_agency',\n",
       " 'finance.lawyer',\n",
       " 'finance.pharmacy',\n",
       " 'finance.real_estate_agency',\n",
       " 'finance.restaurant',\n",
       " 'insurance_agency.lawyer',\n",
       " 'insurance_agency.real_estate_agency',\n",
       " 'insurance_agency.restaurant',\n",
       " 'lawyer.real_estate_agency'}"
      ]
     },
     "execution_count": 86,
     "metadata": {},
     "output_type": "execute_result"
    }
   ],
   "source": [
    "set.intersection(*patternTypesPerCity)"
   ]
  },
  {
   "cell_type": "markdown",
   "metadata": {},
   "source": [
    "# Recomendation"
   ]
  },
  {
   "cell_type": "code",
   "execution_count": 49,
   "metadata": {
    "collapsed": false
   },
   "outputs": [
    {
     "name": "stderr",
     "output_type": "stream",
     "text": [
      "100%|██████████| 98/98 [00:37<00:00,  2.82it/s]\n",
      "100%|██████████| 7/7 [00:07<00:00,  1.18s/it]\n",
      "100%|██████████| 380/380 [00:43<00:00,  6.50it/s]\n"
     ]
    }
   ],
   "source": [
    "city = 'Providence'\n",
    "patterns = [cityResult[5] for cityResult in resultsHuge if cityResult[0]==city][0]\n",
    "patternsInstances = [cityResult[6] for cityResult in resultsHuge if cityResult[0]==city][0]\n",
    "patternsPrevs = [cityResult[7] for cityResult in resultsHuge if cityResult[0]==city][0]\n",
    "cliques = pd.DataFrame()\n",
    "instanceId = 0\n",
    "ids = []\n",
    "\n",
    "for size, patternss in patternsInstances.items():\n",
    "    cliquesSize = pd.DataFrame()\n",
    "    for pattern, instances in tqdm(patternss.items()):\n",
    "        cliquesPattern = pd.DataFrame()\n",
    "        for instance in instances:\n",
    "            instanceId += 1\n",
    "            clique = data[data.id.isin(instance)]\n",
    "            ids.extend([instanceId]*len(clique))\n",
    "            cliquesPattern = cliquesPattern.append(clique)\n",
    "            if os.path.exists('stopIt.json'):\n",
    "                break\n",
    "        if os.path.exists('stopIt.json'):\n",
    "                break\n",
    "        cliquesPattern['pattern'] = pattern\n",
    "        cliquesSize = cliquesSize.append(cliquesPattern)\n",
    "    cliquesSize['size'] = size\n",
    "    cliques = cliques.append(cliquesSize)\n",
    "\n",
    "cliques['instanceId'] = ids"
   ]
  },
  {
   "cell_type": "code",
   "execution_count": 53,
   "metadata": {
    "collapsed": false
   },
   "outputs": [],
   "source": [
    "def getPotentialPatterns(amenity, patterns, patternsPrevs):\n",
    "    possiblePatterns = {}\n",
    "    for size, patternTypes in patterns.items():\n",
    "        if int(size) > 2:\n",
    "            possiblePatterns.update({'.'.join(pattern.split('.')[1:]): patternsPrevs[size][pattern]\n",
    "                                     for pattern in patternTypes if pattern.startswith(amenity)})\n",
    "    return possiblePatterns\n",
    "\n",
    "def scorePotentialPattens(potantialPatterns, clusterCliques):\n",
    "    potentialPatternsInCluster = pd.DataFrame()\n",
    "    scores = []\n",
    "    for pattern, prevalence in potantialPatterns.items():\n",
    "        print(pattern)\n",
    "        patternsInCluster = clusterCliques.loc[clusterCliques.pattern == pattern]\n",
    "        patternsCount = len(patternsInCluster.groupby('instanceId'))\n",
    "        if patternsCount:\n",
    "            scores.extend([prevalence/patternsCount]*len(patternsInCluster))\n",
    "            potentialPatternsInCluster = potentialPatternsInCluster.append(patternsInCluster)\n",
    "    potentialPatternsInCluster['score'] = scores\n",
    "    return potentialPatternsInCluster"
   ]
  },
  {
   "cell_type": "code",
   "execution_count": 65,
   "metadata": {
    "collapsed": false
   },
   "outputs": [
    {
     "name": "stdout",
     "output_type": "stream",
     "text": [
      "clothing_store.shoe_store\n",
      "finance.restaurant\n",
      "finance.lawyer.real_estate_agency\n",
      "clothing_store.electronics_store\n",
      "finance.real_estate_agency\n",
      "clothing_store.restaurant\n",
      "lawyer.real_estate_agency\n",
      "clothing_store.jewelry_store\n",
      "finance.lawyer\n"
     ]
    }
   ],
   "source": [
    "amenity = 'cafe'\n",
    "clusterId = 62\n",
    "clusterCliques = cliques[cliques.clusterId == clusterId]\n",
    "potantialPatterns = getPotentialPatterns(amenity, patterns, patternsPrevs)\n",
    "potantialPatternsInCluster = scorePotentialPattens(potantialPatterns, clusterCliques).sort_values(by='score', ascending=False)"
   ]
  },
  {
   "cell_type": "code",
   "execution_count": null,
   "metadata": {
    "collapsed": true
   },
   "outputs": [],
   "source": []
  }
 ],
 "metadata": {
  "kernelspec": {
   "display_name": "Python 3",
   "language": "python",
   "name": "python3"
  },
  "language_info": {
   "codemirror_mode": {
    "name": "ipython",
    "version": 3
   },
   "file_extension": ".py",
   "mimetype": "text/x-python",
   "name": "python",
   "nbconvert_exporter": "python",
   "pygments_lexer": "ipython3",
   "version": "3.5.1"
  }
 },
 "nbformat": 4,
 "nbformat_minor": 0
}
