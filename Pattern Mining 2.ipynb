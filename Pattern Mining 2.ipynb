{
 "cells": [
  {
   "cell_type": "code",
   "execution_count": 22,
   "metadata": {
    "collapsed": true
   },
   "outputs": [],
   "source": [
    "from collections import defaultdict, Counter\n",
    "from geopy.distance import vincenty\n",
    "from itertools import  product, groupby, combinations\n",
    "import numpy as np\n",
    "import pandas as pd\n",
    "from tqdm import tqdm\n",
    "import os\n",
    "import json\n",
    "from time import time\n",
    "import sys, traceback\n",
    "import math"
   ]
  },
  {
   "cell_type": "markdown",
   "metadata": {},
   "source": [
    "# Data"
   ]
  },
  {
   "cell_type": "code",
   "execution_count": 2,
   "metadata": {
    "collapsed": true
   },
   "outputs": [],
   "source": [
    "groups = {'hindu_temple':'religious_centers',\n",
    "    'mosque':'religious_centers',\n",
    "    'place_of_worship' : 'religious_centers',\n",
    "    'synagogue' : 'religious_centers',\n",
    "    'church' : 'religious_centers',\n",
    "    'meal_delivery' : 'restaurant',\n",
    "    'food' : 'restaurant',\n",
    "    'meal_takeaway' : 'restaurant',\n",
    "    'bank' : 'finance',\n",
    "    'roofing_contractor' : 'construction_contractor',\n",
    "    'electrician' : 'construction_contractor',\n",
    "    'plumber' : 'construction_contractor',\n",
    "    'painter' : 'construction_contractor',\n",
    "    'general_contractor' : 'construction_contractor',\n",
    "    'health' : 'doctor',\n",
    "    'lodging' : 'hotel_and_lodging'\n",
    "}"
   ]
  },
  {
   "cell_type": "code",
   "execution_count": 3,
   "metadata": {
    "collapsed": true
   },
   "outputs": [],
   "source": [
    "with open('chicago/amenities_list.json') as outfile:\n",
    "    amenitiesOldInfo = json.load(outfile)\n",
    "    \n",
    "amenitiesList = [amenity['Label'] for amenity in amenitiesOldInfo]\n",
    "amenitiesIndices = {v: k for k, v in zip(range(len(amenitiesList)), amenitiesList)}\n",
    "amenities = amenitiesList"
   ]
  },
  {
   "cell_type": "code",
   "execution_count": 6,
   "metadata": {
    "collapsed": true
   },
   "outputs": [],
   "source": [
    "import os\n",
    "cities = {}\n",
    "for file in os.listdir('Boston/revised/data/processing_data/result/'):\n",
    "    try:\n",
    "        data = pd.read_csv('Boston/revised/data/processing_data/result/' + file)\n",
    "        data.columns = ['latitude','longitude','intensity','type','clusterId']\n",
    "\n",
    "        for old, new in groups.items():\n",
    "            data.loc[data.type == old,'type'] = new\n",
    "        filteredData = data[data.type.isin(amenitiesList)]\n",
    "        filteredData['id'] = filteredData.index\n",
    "        filteredData.drop('intensity', axis = 1, inplace = True)\n",
    "        cities[file.split('.')[0]] = filteredData\n",
    "    except Exception as e:\n",
    "        print(e)"
   ]
  },
  {
   "cell_type": "markdown",
   "metadata": {},
   "source": [
    "# Mining"
   ]
  },
  {
   "cell_type": "code",
   "execution_count": 8,
   "metadata": {
    "collapsed": true
   },
   "outputs": [],
   "source": [
    "def initializeContainers(minLat, minLng, maxLat, maxLng):\n",
    "    cityCoords = []\n",
    "    length = vincenty((minLat, minLng), (maxLat, minLng)).kilometers\n",
    "    width = vincenty((minLat, minLng), (minLat, maxLng)).kilometers\n",
    "    cellSize = 2.0\n",
    "    \n",
    "    lngEps = (maxLat - minLat)/length*0.05\n",
    "    latEps = (maxLng - minLng)/width*0.05\n",
    "\n",
    "    latCells = int(math.ceil(length/cellSize) + 1)\n",
    "    lngCells = int(math.ceil(width/cellSize) + 1)\n",
    "\n",
    "    latStep = (maxLat - minLat)/latCells\n",
    "    lngStep = (maxLng - minLng)/lngCells\n",
    "\n",
    "    for lat in range(latCells):\n",
    "        for lng in range(lngCells):\n",
    "            cityCoords.append(((minLat + lat*latStep), (minLng + lng*lngStep)))\n",
    "    cityCoords = np.array(cityCoords).reshape([latCells,lngCells, 2])\n",
    "    hashTable = np.zeros([latCells, lngCells, len(amenitiesList)], dtype=object)\n",
    "    return cityCoords, hashTable, lngEps, latEps"
   ]
  },
  {
   "cell_type": "code",
   "execution_count": 12,
   "metadata": {
    "collapsed": true
   },
   "outputs": [],
   "source": [
    "def hashData(hashTable, data, minLat, minLng, latCells, lngCells, latStep, lngStep, latEps, lngEps):\n",
    "    start = time()\n",
    "    for index, location in data.iterrows():\n",
    "        lat, lng = location.latitude, location.longitude\n",
    "        currentLatId, currentLngId = int((lat-minLat)/latStep), int((lng-minLng)/lngStep)\n",
    "\n",
    "        upperLatId, bottomLatId = int((lat+latEps-minLat)/latStep), int((lat-latEps-minLat)/latStep)\n",
    "        upperLngId, bottomLngId = int((lng+lngEps-minLng)/lngStep), int((lng-lngEps-minLng)/lngStep)\n",
    "        otherLatId = upperLatId if upperLatId!=currentLatId else bottomLatId if bottomLatId!=currentLatId else currentLatId\n",
    "        otherLatId = min(otherLatId, latCells-1)\n",
    "        otherLngId = upperLngId if upperLngId!=currentLngId else bottomLngId if bottomLngId!=currentLngId else currentLngId\n",
    "        otherLngId = min(otherLngId, lngCells-1)\n",
    "\n",
    "        for latId in set([currentLatId, otherLatId]):\n",
    "            for lngId in set([currentLngId, otherLngId]):\n",
    "                try:\n",
    "                    if hashTable[latId, lngId, amenitiesIndices[location.type]]:\n",
    "                        hashTable[latId, lngId, amenitiesIndices[location.type]].append((lat, lng, location.id))\n",
    "                        hashTable[latId, lngId, amenitiesIndices[location.type]].sort(key = lambda x : x[0])\n",
    "                    else:\n",
    "                        hashTable[latId, lngId, amenitiesIndices[location.type]] = [(lat, lng, location.id)]\n",
    "                except Exception as e:\n",
    "#                     print e\n",
    "                    pass\n",
    "\n",
    "    print('Super fast hasing took', time()-start, 'to execute')\n",
    "    return hashTable, time()-start"
   ]
  },
  {
   "cell_type": "code",
   "execution_count": 7,
   "metadata": {
    "collapsed": true
   },
   "outputs": [],
   "source": [
    "def minePatterns(hashTable, cellsCoords, latCells, lngCells, latStep, lngStep, lngEps):\n",
    "    neighborsByAmenity = {}\n",
    "    start = time()\n",
    "    for lat in range(latCells):\n",
    "        for lng in range(lngCells):\n",
    "            currentCell = hashTable[lat, lng]\n",
    "            for amenityType in amenitiesList:\n",
    "                amenityNeighbors = []\n",
    "                if amenityType not in neighborsByAmenity:\n",
    "                    neighborsByAmenity[amenityType] = []\n",
    "                #No locations of this type\n",
    "                if not currentCell[amenitiesIndices[amenityType]]:\n",
    "                    continue\n",
    "\n",
    "                cellCoords = cellsCoords[lat, lng]\n",
    "                #Iterate all the objects in this cell and type\n",
    "\n",
    "                for location in filter(lambda x: \n",
    "                                           x[0] >= cellCoords[0] \n",
    "                                       and x[0] < cellCoords[0] + latStep\n",
    "                                       and x[1] >= cellCoords[1]\n",
    "                                       and x[1] < cellCoords[1] + lngStep,\n",
    "                                       currentCell[amenitiesIndices[amenityType]]):\n",
    "                    locationNeighbors = []\n",
    "                    for neighborAmenityType in filter(lambda x: currentCell[amenitiesIndices[x]]\n",
    "                                                      and x != amenityType,\n",
    "                                                      amenitiesList[amenitiesIndices[amenityType]+1:]):\n",
    "                        for neighborLocation in currentCell[amenitiesIndices[neighborAmenityType]]:\n",
    "                            if neighborLocation[0] -  location[0] < -lngEps:\n",
    "                                continue\n",
    "                            if location[0] - neighborLocation[0] > lngEps:\n",
    "                                break\n",
    "                            if vincenty(location[:2], neighborLocation[:2]).meters <= 50:\n",
    "                                locationNeighbors.append((neighborLocation[2],\n",
    "                                                         neighborAmenityType))\n",
    "                    if len(locationNeighbors):\n",
    "                        amenityNeighbors.append(((location[2],\n",
    "                                                 amenityType), locationNeighbors))\n",
    "                neighborsByAmenity[amenityType].extend(amenityNeighbors)\n",
    "    return time()-start, neighborsByAmenity"
   ]
  },
  {
   "cell_type": "code",
   "execution_count": 17,
   "metadata": {
    "collapsed": true
   },
   "outputs": [],
   "source": [
    "def mineCityStarPatterns(cityName):\n",
    "    data = cities[cityName]\n",
    "    data = data.drop_duplicates(['latitude','longitude','type'])\n",
    "    print(cityName)\n",
    "    print(len(data))\n",
    "    \n",
    "    start = time()\n",
    "    \n",
    "    minLat, minLng, maxLat, maxLng =  data.latitude.min(), data.longitude.min(), data.latitude.max(), data.longitude.max()\n",
    "    lowerLeft = minLat, minLng\n",
    "    upperRight = maxLat, maxLng\n",
    "\n",
    "    cellsCoords, hashTable, lngEps, latEps = initializeContainers(minLat, minLng, maxLat, maxLng)\n",
    "\n",
    "    latCells, lngCells, _ = cellsCoords.shape\n",
    "    latStep = (maxLat - minLat)/latCells\n",
    "    lngStep = (maxLng - minLng)/lngCells\n",
    "\n",
    "    hashTable, hasingTime = hashData(hashTable, data, minLat, minLng, latCells, lngCells, latStep, lngStep, latEps, lngEps)\n",
    "    materTime, neighborsByAmenity = minePatterns(hashTable, cellsCoords, latCells, lngCells, latStep, lngStep, lngEps)\n",
    "    \n",
    "    neighborsByAmenity = {amenity:[(set([location[1] for location in instance[1]]), instance)\n",
    "                                    for instance in neighborsByAmenity[amenity]]\n",
    "                                    for amenity in amenities}\n",
    "    \n",
    "    print('Mining algorithm took', time() - start, 'to execute')\n",
    "    return cityName, len(data), neighborsByAmenity, time() - start"
   ]
  },
  {
   "cell_type": "code",
   "execution_count": 18,
   "metadata": {
    "collapsed": false
   },
   "outputs": [
    {
     "name": "stdout",
     "output_type": "stream",
     "text": [
      "Providence\n",
      "8104\n",
      "Super fast hasing took 1.3787920475006104 to execute\n",
      "Mining algorithm took 35.83417296409607 to execute\n"
     ]
    }
   ],
   "source": [
    "city, dataLen, neighborsByAmenity, materTime = mineCityStarPatterns('Providence')\n",
    "\n",
    "amenitiesCounts = defaultdict(lambda: 0)\n",
    "for amenity in amenities:\n",
    "    amenitiesCounts[amenity] = len(data[data.type == amenity])"
   ]
  },
  {
   "cell_type": "code",
   "execution_count": 21,
   "metadata": {
    "collapsed": true
   },
   "outputs": [],
   "source": [
    "th = 0.05\n",
    "\n",
    "def generateCandidates(colocations, amenities, patternsPrevs, k0):\n",
    "    candidates = []\n",
    "    for colocation in tqdm(colocations):\n",
    "        for amenity in amenities[amenitiesIndex[colocation.split('.')[-1]] + 1:]:\n",
    "            notPrevalent = False\n",
    "            for subPattern in combinations(colocation.split('.') + [amenity], k0):\n",
    "                subP = '.'.join(subPattern)\n",
    "                if not subP in colocations:\n",
    "                    notPrevalent = True\n",
    "                    break\n",
    "                if k0 > 1:\n",
    "                    if patternsPrevs[k0][subP] < th:\n",
    "                        notPrevalent = True\n",
    "                        break\n",
    "            if notPrevalent:\n",
    "                continue\n",
    "            candidates.append(colocation + '.' +amenity)\n",
    "    return candidates\n",
    "\n",
    "def genSecondPatterns(colocationSplit, instances):\n",
    "    cliqueInstanes = []\n",
    "    neighborType = colocationSplit[1]\n",
    "    for starInstance in instances:\n",
    "        center = starInstance[0]\n",
    "        for location in starInstance[1]:\n",
    "            if location[1] == neighborType:\n",
    "                cliqueInstanes.append((center[0], location[0]))\n",
    "    return cliqueInstanes\n",
    "\n",
    "def genMorePatterns(colocationSplit, instances, patternsInstances):\n",
    "    cliqueInstances = []\n",
    "    for instance in instances:\n",
    "        center = tuple([instance[0][0]])\n",
    "        neighbors = instance[1]\n",
    "        potentialStarNeighbors = [location for location in neighbors\n",
    "                                  if location[1] in colocationSplit[1:]]\n",
    "        grouping = [[location[0] for location in group]\n",
    "                    for key, group in groupby(potentialStarNeighbors, lambda x: x[1])]\n",
    "        referenceStars = patternsInstances[k-1]['.'.join(colocationSplit[1:])]\n",
    "        cliqueInstances.extend([(center) + star for star in product(*grouping) if star in referenceStars])\n",
    "    return cliqueInstances\n",
    "\n",
    "def checkStar(instanceTypes, colocation):\n",
    "    for amenity in colocation[1:]:\n",
    "        if not amenity in instanceTypes:\n",
    "            return False\n",
    "    return True\n",
    "\n",
    "def calculcatePatternPrevalence(colocationSplit, instances, amenitiesCounts):\n",
    "    patternInstanceCounts = {}\n",
    "    for instance in instances:\n",
    "        for instanceID, instanceType in zip(instance, colocationSplit):\n",
    "            patternInstanceCounts[(instanceID, instanceType)] = 1\n",
    "    counts = Counter([amenity for (id, amenity), one in patternInstanceCounts.items()])\n",
    "    ratios = [float(count)/amenitiesCounts[type] for type, count in counts.items()]\n",
    "    return min(ratios)"
   ]
  },
  {
   "cell_type": "code",
   "execution_count": 24,
   "metadata": {
    "collapsed": false
   },
   "outputs": [
    {
     "name": "stdout",
     "output_type": "stream",
     "text": [
      "Providence\n",
      "8104\n",
      "Super fast hasing took 1.3688080310821533 to execute\n",
      "Mining algorithm took 37.01934003829956 to execute\n",
      "Length: 2\n",
      "Generating\n"
     ]
    },
    {
     "name": "stderr",
     "output_type": "stream",
     "text": [
      "100%|██████████| 74/74 [00:00<00:00, 9884.04it/s]\n"
     ]
    },
    {
     "name": "stdout",
     "output_type": "stream",
     "text": [
      "Candiates:  2701\n",
      "Getting Stars\n"
     ]
    },
    {
     "name": "stderr",
     "output_type": "stream",
     "text": [
      "100%|██████████| 2701/2701 [00:00<00:00, 21495.17it/s]\n"
     ]
    },
    {
     "name": "stdout",
     "output_type": "stream",
     "text": [
      "Checking Stars\n"
     ]
    },
    {
     "name": "stderr",
     "output_type": "stream",
     "text": [
      "100%|██████████| 2701/2701 [00:00<00:00, 41530.20it/s]\n"
     ]
    },
    {
     "name": "stdout",
     "output_type": "stream",
     "text": [
      "Patterns:  44\n",
      "\n",
      "Length: 3\n",
      "Generating\n"
     ]
    },
    {
     "name": "stderr",
     "output_type": "stream",
     "text": [
      "100%|██████████| 44/44 [00:00<00:00, 19927.59it/s]\n"
     ]
    },
    {
     "name": "stdout",
     "output_type": "stream",
     "text": [
      "Candiates:  16\n",
      "Getting Stars\n"
     ]
    },
    {
     "name": "stderr",
     "output_type": "stream",
     "text": [
      "100%|██████████| 16/16 [00:00<00:00, 5718.21it/s]\n"
     ]
    },
    {
     "name": "stdout",
     "output_type": "stream",
     "text": [
      "Checking Stars\n"
     ]
    },
    {
     "name": "stderr",
     "output_type": "stream",
     "text": [
      "100%|██████████| 16/16 [00:00<00:00, 420.29it/s]\n"
     ]
    },
    {
     "name": "stdout",
     "output_type": "stream",
     "text": [
      "Patterns:  0\n",
      "\n",
      "Mining algorithm took 0.2683429718017578 to execute\n"
     ]
    }
   ],
   "source": [
    "city, dataLen, neighborsByAmenity, materTime = mineCityStarPatterns('Providence')\n",
    "amenitiesCounts = defaultdict(lambda: 0)\n",
    "for amenity in amenities:\n",
    "    amenitiesCounts[amenity] = len(data[data.type == amenity])\n",
    "\n",
    "start = time()\n",
    "patterns = {1: [amenity for amenity in amenities]}\n",
    "patternsInstances = {}\n",
    "patternsPrevs = {1: {amenity:1 for amenity in amenities}}\n",
    "\n",
    "k = 2\n",
    "while len(patterns[k-1]):\n",
    "\n",
    "    print('Length:', k)\n",
    "    print('Generating')\n",
    "    candidates = generateCandidates(patterns[k-1], amenities, patternsPrevs, k-1)\n",
    "    if not len(candidates):\n",
    "        break\n",
    "    print('Candiates: ', len(candidates))\n",
    "    starInstances = {}\n",
    "    print('Getting Stars')\n",
    "    for colocation in tqdm(candidates):\n",
    "        colocationSplit = colocation.split('.')\n",
    "        starInstances[colocation] = (colocationSplit, [instance for types, instance in neighborsByAmenity[colocationSplit[0]]\n",
    "                                               if checkStar(types, colocationSplit)])\n",
    "\n",
    "    cliques = {}\n",
    "    patternsInstances[k] = {}\n",
    "    patternsPrevs[k] = {}\n",
    "    print('Checking Stars')\n",
    "    for colocation, (colocationSplit, instances) in tqdm(starInstances.items()):\n",
    "        if len(instances):\n",
    "            if k == 2:\n",
    "                cliqueInstances = genSecondPatterns(colocationSplit, instances)\n",
    "                patternPrev = calculcatePatternPrevalence(colocationSplit, cliqueInstances, amenitiesCounts)\n",
    "                patternsPrevs[k][colocation] = patternPrev\n",
    "                if patternPrev >= th:\n",
    "                    patternsInstances[k][colocation] = cliqueInstances\n",
    "\n",
    "            else:\n",
    "                cliqueInstances = genMorePatterns(colocationSplit, instances, patternsInstances)\n",
    "                if len(cliqueInstances):\n",
    "                    patternPrev = calculcatePatternPrevalence(colocationSplit, cliqueInstances, amenitiesCounts)\n",
    "                    patternsPrevs[k][colocation] = patternPrev\n",
    "                    if patternPrev >= th:\n",
    "                        patternsInstances[k][colocation] = cliqueInstances\n",
    "    patterns[k] = {clique:len(instances) for clique, instances in patternsInstances[k].items()}\n",
    "    print('Patterns: ', len(patterns[k]))\n",
    "    print('')\n",
    "    k += 1\n",
    "\n",
    "miningTime = time()-start\n",
    "print('Mining algorithm took',miningTime , 'to execute')"
   ]
  },
  {
   "cell_type": "code",
   "execution_count": null,
   "metadata": {
    "collapsed": false
   },
   "outputs": [],
   "source": [
    "allResults = []\n",
    "for city, data in cities.items():\n",
    "    try:\n",
    "        city, dataLen, neighborsByAmenity, materTime = mineCityStarPatterns(city)\n",
    "        amenitiesCounts = defaultdict(lambda: 0)\n",
    "        for amenity in amenities:\n",
    "            amenitiesCounts[amenity] = len(data[data.type == amenity])\n",
    "        \n",
    "        start = time()\n",
    "        patterns = {1: [amenity for amenity in amenities]}\n",
    "        patternsInstances = {}\n",
    "        patternsPrevs = {1: {amenity:1 for amenity in amenities}}\n",
    "        \n",
    "        k = 2\n",
    "        while len(patterns[k-1]):\n",
    "\n",
    "            print('Length:', k)\n",
    "            print('Generating')\n",
    "            candidates = generateCandidates(patterns[k-1], amenities, patternsPrevs, k-1)\n",
    "            if not len(candidates):\n",
    "                break\n",
    "            print('Candiates: ', len(candidates))\n",
    "            starInstances = {}\n",
    "            print('Getting Stars')\n",
    "            for colocation in tqdm(candidates):\n",
    "                colocationSplit = colocation.split('.')\n",
    "                starInstances[colocation] = (colocationSplit, [instance for types, instance in neighborsByAmenity[colocationSplit[0]]\n",
    "                                                       if checkStar(types, colocationSplit)])\n",
    "\n",
    "            cliques = {}\n",
    "            patternsInstances[k] = {}\n",
    "            patternsPrevs[k] = {}\n",
    "            print('Checking Stars')\n",
    "            for colocation, (colocationSplit, instances) in tqdm(starInstances.items()):\n",
    "                if len(instances):\n",
    "                    if k == 2:\n",
    "                        cliqueInstances = genSecondPatterns(colocationSplit, instances)\n",
    "                        patternPrev = calculcatePatternPrevalence(colocationSplit, cliqueInstances, amenitiesCounts)\n",
    "                        patternsPrevs[k][colocation] = patternPrev\n",
    "                        if patternPrev >= th:\n",
    "                            patternsInstances[k][colocation] = cliqueInstances\n",
    "\n",
    "                    else:\n",
    "                        cliqueInstances = genMorePatterns(colocationSplit, instances, patternsInstances)\n",
    "                        if len(cliqueInstances):\n",
    "                            patternPrev = calculcatePatternPrevalence(colocationSplit, cliqueInstances, amenitiesCounts)\n",
    "                            patternsPrevs[k][colocation] = patternPrev\n",
    "                            if patternPrev >= th:\n",
    "                                patternsInstances[k][colocation] = cliqueInstances\n",
    "            patterns[k] = {clique:len(instances) for clique, instances in patternsInstances[k].items()}\n",
    "            print('Patterns: ', len(patterns[k]))\n",
    "            print('')\n",
    "            k += 1\n",
    "    \n",
    "        miningTime = time()-start\n",
    "        print('Mining algorithm took',miningTime , 'to execute')\n",
    "        allResults.append([city, dataLen, materTime, miningTime, materTime+miningTime, patterns, patternsInstances, patternsPrevs])\n",
    "        break\n",
    "    except Exception as e:\n",
    "        print(e)"
   ]
  },
  {
   "cell_type": "code",
   "execution_count": 31,
   "metadata": {
    "collapsed": false
   },
   "outputs": [],
   "source": [
    "with open('Patterns/patternsAll0-05.json') as outfile:\n",
    "    resultsHuge = json.load(outfile)"
   ]
  },
  {
   "cell_type": "code",
   "execution_count": 25,
   "metadata": {
    "collapsed": true
   },
   "outputs": [],
   "source": [
    "#Analysis"
   ]
  },
  {
   "cell_type": "code",
   "execution_count": 32,
   "metadata": {
    "collapsed": false
   },
   "outputs": [
    {
     "data": {
      "text/plain": [
       "37"
      ]
     },
     "execution_count": 32,
     "metadata": {},
     "output_type": "execute_result"
    }
   ],
   "source": [
    "len(resultsHuge)"
   ]
  },
  {
   "cell_type": "code",
   "execution_count": 35,
   "metadata": {
    "collapsed": true
   },
   "outputs": [],
   "source": [
    "import plotly.graph_objs as go\n",
    "from plotly.offline import iplot, init_notebook_mode\n",
    "init_notebook_mode()"
   ]
  },
  {
   "cell_type": "code",
   "execution_count": 41,
   "metadata": {
    "collapsed": false
   },
   "outputs": [
    {
     "data": {
      "text/html": [
       "<div id=\"033961e5-7eed-4e66-947a-ec6fce0960a9\" style=\"height: 525; width: 100%;\" class=\"plotly-graph-div\"></div><script type=\"text/javascript\">require([\"plotly\"], function(Plotly) { window.PLOTLYENV=window.PLOTLYENV || {};window.PLOTLYENV.BASE_URL=\"https://plot.ly\";Plotly.newPlot(\"033961e5-7eed-4e66-947a-ec6fce0960a9\", [{\"type\": \"scatter\", \"mode\": \"markers+text\", \"text\": [\"San_Jose\", \"Birmingham\", \"Pittsburgh\", \"Washington\", \"Milwaukee\", \"San_Francisco\", \"Orlando\", \"Boston\", \"Portland\", \"Richmond\", \"Nashville\", \"Miami\", \"Austin\", \"Cincinnati\", \"Columbus\", \"Cleveland\", \"Detroit\", \"Lousville\", \"Memphis\", \"Oklahoma\", \"Riverside\", \"Buffalo\", \"San_Diego\", \"Jacksonville\", \"Baltimore\", \"Providence\", \"Chicago\", \"Las_Vegas\", \"Dallas\", \"Philadelphia\", \"New_Orleans\", \"Phoenix\", \"Raleigh\", \"Indianapolis\", \"Charlotte\", \"Sacramento\", \"St_Louis\"], \"x\": [35.011, 18.703, 17.892, 24.48, 22.798, 19.791, 27.383, 22.979, 36.665, 11.164, 25.389, 20.246, 35.614, 18.352, 33.558, 20.541, 30.249, 25.853, 24.493, 25.5, 9.803, 8.106, 65.261, 27.106, 18.458, 8.104, 65.601, 43.737, 68.366, 46.477, 17.274, 54.999, 19.373, 24.214, 26.41, 22.987, 13.61], \"y\": [97.30674004554749, 37.33728098869324, 61.98917102813721, 113.27261400222778, 55.38756799697876, 204.99248504638672, 65.90241193771362, 145.76894807815552, 174.08488607406616, 30.8624210357666, 75.48789095878601, 83.93346881866455, 104.4635260105133, 48.10244083404541, 72.25601005554199, 50.01270008087158, 62.98502993583679, 54.89523410797119, 49.70860695838928, 52.0308141708374, 26.514925956726074, 20.34398102760315, 269.6417911052704, 43.054044008255005, 85.42698097229004, 31.82670021057129, 340.353355884552, 111.03325605392456, 170.3950479030609, 226.9371418952942, 62.90603995323181, 124.24688792228699, 39.34567308425903, 48.94856595993042, 56.729904890060425, 67.68804502487183, 24.553786993026733]}], {\"title\": \"Materialization time\", \"yaxis\": {\"title\": \"Time, Seconds\"}, \"hovermode\": \"closest\", \"xaxis\": {\"title\": \"Locations, Thousands\"}}, {\"linkText\": \"Export to plot.ly\", \"showLink\": true})});</script>"
      ],
      "text/plain": [
       "<IPython.core.display.HTML object>"
      ]
     },
     "metadata": {},
     "output_type": "display_data"
    }
   ],
   "source": [
    "scatter = go.Scatter(\n",
    "    x = [res[1]/1000.0 for res in resultsHuge],\n",
    "    y = [res[2] for res in resultsHuge],\n",
    "    mode = 'markers+text',\n",
    "    text = [res[0] for res in resultsHuge]\n",
    ")\n",
    "layout = go.Layout(\n",
    "    title='Materialization time',\n",
    "    hovermode='closest',\n",
    "    xaxis=dict(\n",
    "        title='Locations, Thousands',\n",
    "    ),\n",
    "    yaxis=dict(\n",
    "        title='Time, Seconds',\n",
    "    ),\n",
    ")\n",
    "fig = go.Figure(data = [scatter], layout = layout)\n",
    "iplot(fig)"
   ]
  },
  {
   "cell_type": "code",
   "execution_count": 42,
   "metadata": {
    "collapsed": false
   },
   "outputs": [
    {
     "data": {
      "text/html": [
       "<div id=\"6f78ebeb-6b54-4163-8e4a-36a7a61b3568\" style=\"height: 525; width: 100%;\" class=\"plotly-graph-div\"></div><script type=\"text/javascript\">require([\"plotly\"], function(Plotly) { window.PLOTLYENV=window.PLOTLYENV || {};window.PLOTLYENV.BASE_URL=\"https://plot.ly\";Plotly.newPlot(\"6f78ebeb-6b54-4163-8e4a-36a7a61b3568\", [{\"type\": \"scatter\", \"mode\": \"markers+text\", \"text\": [\"San_Jose\", \"Birmingham\", \"Pittsburgh\", \"Washington\", \"Milwaukee\", \"San_Francisco\", \"Orlando\", \"Boston\", \"Portland\", \"Richmond\", \"Nashville\", \"Miami\", \"Austin\", \"Cincinnati\", \"Columbus\", \"Cleveland\", \"Detroit\", \"Lousville\", \"Memphis\", \"Oklahoma\", \"Riverside\", \"Buffalo\", \"San_Diego\", \"Jacksonville\", \"Baltimore\", \"Providence\", \"Chicago\", \"Las_Vegas\", \"Dallas\", \"Philadelphia\", \"New_Orleans\", \"Phoenix\", \"Raleigh\", \"Indianapolis\", \"Charlotte\", \"Sacramento\", \"St_Louis\"], \"x\": [35.011, 18.703, 17.892, 24.48, 22.798, 19.791, 27.383, 22.979, 36.665, 11.164, 25.389, 20.246, 35.614, 18.352, 33.558, 20.541, 30.249, 25.853, 24.493, 25.5, 9.803, 8.106, 65.261, 27.106, 18.458, 8.104, 65.601, 43.737, 68.366, 46.477, 17.274, 54.999, 19.373, 24.214, 26.41, 22.987, 13.61], \"y\": [8.317876100540161, 1.1488978862762451, 4.749381065368652, 16.98568606376648, 1.3062999248504639, 677.5640988349915, 436.1519410610199, 17.632334232330322, 130.05599188804626, 0.5499699115753174, 2.431101083755493, 14.317347049713135, 32.109368085861206, 1.4723289012908936, 2.3232028484344482, 864.0261559486389, 2.086359977722168, 5.326332092285156, 1.9885690212249756, 2.001944065093994, 2.7405710220336914, 1.0737969875335693, 894.2874310016632, 7.306946039199829, 1.6988508701324463, 0.9290580749511719, 324.56393599510193, 10.963729858398438, 52.20952796936035, 15.604728937149048, 1.1278440952301025, 11.85096001625061, 4.040786027908325, 1.081644058227539, 6.125484943389893, 1.9481399059295654, 0.9118249416351318]}], {\"title\": \"Mining time\", \"yaxis\": {\"title\": \"Time, Seconds\"}, \"hovermode\": \"closest\", \"xaxis\": {\"title\": \"Locations, Thousands\"}}, {\"linkText\": \"Export to plot.ly\", \"showLink\": true})});</script>"
      ],
      "text/plain": [
       "<IPython.core.display.HTML object>"
      ]
     },
     "metadata": {},
     "output_type": "display_data"
    }
   ],
   "source": [
    "scatter = go.Scatter(\n",
    "    x = [res[1]/1000.0 for res in resultsHuge],\n",
    "    y = [res[3] for res in resultsHuge],\n",
    "    mode = 'markers+text',\n",
    "    text = [res[0] for res in resultsHuge]\n",
    ")\n",
    "layout = go.Layout(\n",
    "    title='Mining time',\n",
    "    hovermode='closest',\n",
    "    xaxis=dict(\n",
    "        title='Locations, Thousands',\n",
    "    ),\n",
    "    yaxis=dict(\n",
    "        title='Time, Seconds',\n",
    "    ),\n",
    ")\n",
    "fig = go.Figure(data = [scatter], layout = layout)\n",
    "iplot(fig)"
   ]
  },
  {
   "cell_type": "code",
   "execution_count": null,
   "metadata": {
    "collapsed": true
   },
   "outputs": [],
   "source": []
  },
  {
   "cell_type": "code",
   "execution_count": null,
   "metadata": {
    "collapsed": true
   },
   "outputs": [],
   "source": []
  },
  {
   "cell_type": "markdown",
   "metadata": {},
   "source": [
    "# Recomendation"
   ]
  },
  {
   "cell_type": "code",
   "execution_count": 49,
   "metadata": {
    "collapsed": false
   },
   "outputs": [
    {
     "name": "stderr",
     "output_type": "stream",
     "text": [
      "100%|██████████| 98/98 [00:37<00:00,  2.82it/s]\n",
      "100%|██████████| 7/7 [00:07<00:00,  1.18s/it]\n",
      "100%|██████████| 380/380 [00:43<00:00,  6.50it/s]\n"
     ]
    }
   ],
   "source": [
    "city = 'Providence'\n",
    "patterns = [cityResult[5] for cityResult in resultsHuge if cityResult[0]==city][0]\n",
    "patternsInstances = [cityResult[6] for cityResult in resultsHuge if cityResult[0]==city][0]\n",
    "patternsPrevs = [cityResult[7] for cityResult in resultsHuge if cityResult[0]==city][0]\n",
    "cliques = pd.DataFrame()\n",
    "instanceId = 0\n",
    "ids = []\n",
    "\n",
    "for size, patternss in patternsInstances.items():\n",
    "    cliquesSize = pd.DataFrame()\n",
    "    for pattern, instances in tqdm(patternss.items()):\n",
    "        cliquesPattern = pd.DataFrame()\n",
    "        for instance in instances:\n",
    "            instanceId += 1\n",
    "            clique = data[data.id.isin(instance)]\n",
    "            ids.extend([instanceId]*len(clique))\n",
    "            cliquesPattern = cliquesPattern.append(clique)\n",
    "            if os.path.exists('stopIt.json'):\n",
    "                break\n",
    "        if os.path.exists('stopIt.json'):\n",
    "                break\n",
    "        cliquesPattern['pattern'] = pattern\n",
    "        cliquesSize = cliquesSize.append(cliquesPattern)\n",
    "    cliquesSize['size'] = size\n",
    "    cliques = cliques.append(cliquesSize)\n",
    "\n",
    "cliques['instanceId'] = ids"
   ]
  },
  {
   "cell_type": "code",
   "execution_count": 53,
   "metadata": {
    "collapsed": false
   },
   "outputs": [],
   "source": [
    "def getPotentialPatterns(amenity, patterns, patternsPrevs):\n",
    "    possiblePatterns = {}\n",
    "    for size, patternTypes in patterns.items():\n",
    "        if int(size) > 2:\n",
    "            possiblePatterns.update({'.'.join(pattern.split('.')[1:]): patternsPrevs[size][pattern]\n",
    "                                     for pattern in patternTypes if pattern.startswith(amenity)})\n",
    "    return possiblePatterns\n",
    "\n",
    "def scorePotentialPattens(potantialPatterns, clusterCliques):\n",
    "    potentialPatternsInCluster = pd.DataFrame()\n",
    "    scores = []\n",
    "    for pattern, prevalence in potantialPatterns.items():\n",
    "        print(pattern)\n",
    "        patternsInCluster = clusterCliques.loc[clusterCliques.pattern == pattern]\n",
    "        patternsCount = len(patternsInCluster.groupby('instanceId'))\n",
    "        if patternsCount:\n",
    "            scores.extend([prevalence/patternsCount]*len(patternsInCluster))\n",
    "            potentialPatternsInCluster = potentialPatternsInCluster.append(patternsInCluster)\n",
    "    potentialPatternsInCluster['score'] = scores\n",
    "    return potentialPatternsInCluster"
   ]
  },
  {
   "cell_type": "code",
   "execution_count": 65,
   "metadata": {
    "collapsed": false
   },
   "outputs": [
    {
     "name": "stdout",
     "output_type": "stream",
     "text": [
      "clothing_store.shoe_store\n",
      "finance.restaurant\n",
      "finance.lawyer.real_estate_agency\n",
      "clothing_store.electronics_store\n",
      "finance.real_estate_agency\n",
      "clothing_store.restaurant\n",
      "lawyer.real_estate_agency\n",
      "clothing_store.jewelry_store\n",
      "finance.lawyer\n"
     ]
    }
   ],
   "source": [
    "amenity = 'cafe'\n",
    "clusterId = 62\n",
    "clusterCliques = cliques[cliques.clusterId == clusterId]\n",
    "potantialPatterns = getPotentialPatterns(amenity, patterns, patternsPrevs)\n",
    "potantialPatternsInCluster = scorePotentialPattens(potantialPatterns, clusterCliques).sort_values(by='score', ascending=False)"
   ]
  },
  {
   "cell_type": "code",
   "execution_count": null,
   "metadata": {
    "collapsed": true
   },
   "outputs": [],
   "source": []
  }
 ],
 "metadata": {
  "kernelspec": {
   "display_name": "Python 3",
   "language": "python",
   "name": "python3"
  },
  "language_info": {
   "codemirror_mode": {
    "name": "ipython",
    "version": 3
   },
   "file_extension": ".py",
   "mimetype": "text/x-python",
   "name": "python",
   "nbconvert_exporter": "python",
   "pygments_lexer": "ipython3",
   "version": "3.5.1"
  }
 },
 "nbformat": 4,
 "nbformat_minor": 0
}
